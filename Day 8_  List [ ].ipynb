{
 "cells": [
  {
   "cell_type": "markdown",
   "id": "b93627b6",
   "metadata": {},
   "source": [
    "# list [ ]"
   ]
  },
  {
   "cell_type": "code",
   "execution_count": 2,
   "id": "c149fd1e",
   "metadata": {},
   "outputs": [
    {
     "name": "stdout",
     "output_type": "stream",
     "text": [
      "['apple', 'orange', 'tomatto']\n",
      "<class 'list'>\n"
     ]
    }
   ],
   "source": [
    "my_list = [\"apple\",\"orange\", \"tomatto\"]\n",
    "print(my_list)\n",
    "print(type(my_list))"
   ]
  },
  {
   "cell_type": "markdown",
   "id": "a549671b",
   "metadata": {},
   "source": [
    "### Its Allow duplicates\n"
   ]
  },
  {
   "cell_type": "code",
   "execution_count": 4,
   "id": "2b9bf2dd",
   "metadata": {},
   "outputs": [
    {
     "name": "stdout",
     "output_type": "stream",
     "text": [
      "['apple', 'orange', 'tomatto', 'cheryy', 'banana', 'milk shake']\n",
      "<class 'list'>\n"
     ]
    }
   ],
   "source": [
    "my_list = [\"apple\",\"orange\", \"tomatto\", \"cheryy\", \"banana\", \"milk shake\"]\n",
    "print(my_list)\n",
    "print(type(my_list))"
   ]
  },
  {
   "cell_type": "markdown",
   "id": "c5a85893",
   "metadata": {},
   "source": [
    "### list() item Data Types"
   ]
  },
  {
   "cell_type": "code",
   "execution_count": 8,
   "id": "326f72ae",
   "metadata": {},
   "outputs": [
    {
     "name": "stdout",
     "output_type": "stream",
     "text": [
      "['apple', 'orange', 'tomatto']\n",
      "[1, 2, 3, 4, 5, 6, 7, 7, 8]\n",
      "[True, False, True, False]\n",
      "[1.2, 5.6, 8.9]\n"
     ]
    }
   ],
   "source": [
    "L1 = [\"apple\",\"orange\", \"tomatto\"]\n",
    "L2 = [1,2,3,4,5,6,7,7,8]\n",
    "L3 = [True, False, True, False]\n",
    "L4 = [1.2, 5.6, 8.9]\n",
    "L5 = [\"aaj jaane ki zid na karo\"]\n",
    "\n",
    "print(L1)\n",
    "print(L2)\n",
    "print(L3)\n",
    "print(L4)"
   ]
  },
  {
   "cell_type": "markdown",
   "id": "25564883",
   "metadata": {},
   "source": [
    "Example"
   ]
  },
  {
   "cell_type": "code",
   "execution_count": 9,
   "id": "80ababc3",
   "metadata": {},
   "outputs": [
    {
     "name": "stdout",
     "output_type": "stream",
     "text": [
      "[12, 26, 2.3, 'books', 'fruits', 9.3, -10.3, -10, True, False]\n",
      "<class 'list'>\n"
     ]
    }
   ],
   "source": [
    "a = [12,26,2.3,\"books\", \"fruits\", 9.3, -10.3,-10, True, False]\n",
    "print(a)\n",
    "print(type(a))"
   ]
  },
  {
   "cell_type": "markdown",
   "id": "dcd411e7",
   "metadata": {},
   "source": [
    "# list() Length"
   ]
  },
  {
   "cell_type": "code",
   "execution_count": 11,
   "id": "a2bbfd83",
   "metadata": {},
   "outputs": [
    {
     "name": "stdout",
     "output_type": "stream",
     "text": [
      "[12, 26, 2.3, 'books', 'fruits', 9.3, -10.3, -10, True, False]\n",
      "10\n"
     ]
    }
   ],
   "source": [
    "a = [12,26,2.3,\"books\", \"fruits\", 9.3, -10.3,-10, True, False]\n",
    "print(a)\n",
    "print(len(a))"
   ]
  },
  {
   "cell_type": "markdown",
   "id": "b64099b8",
   "metadata": {},
   "source": [
    "# list() Access items"
   ]
  },
  {
   "cell_type": "code",
   "execution_count": 12,
   "id": "d31a8fe6",
   "metadata": {},
   "outputs": [
    {
     "name": "stdout",
     "output_type": "stream",
     "text": [
      "45\n",
      "56\n",
      "12\n"
     ]
    }
   ],
   "source": [
    "L1 = [45,56,12,23,789,456,1323]\n",
    "print(L1[0])\n",
    "print(L1[1])\n",
    "print(L1[2])"
   ]
  },
  {
   "cell_type": "code",
   "execution_count": 13,
   "id": "dfb84a96",
   "metadata": {},
   "outputs": [
    {
     "name": "stdout",
     "output_type": "stream",
     "text": [
      "1323\n",
      "456\n",
      "789\n"
     ]
    }
   ],
   "source": [
    "L1 = [45,56,12,23,789,456,1323]\n",
    "\n",
    "print(L1[-1])\n",
    "print(L1[-2])\n",
    "print(L1[-3])"
   ]
  },
  {
   "cell_type": "markdown",
   "id": "e177eee4",
   "metadata": {},
   "source": [
    "# list() Slicing"
   ]
  },
  {
   "cell_type": "code",
   "execution_count": 14,
   "id": "dfb51d95",
   "metadata": {},
   "outputs": [
    {
     "name": "stdout",
     "output_type": "stream",
     "text": [
      "[12, 45, 89, 56, 23, 98]\n"
     ]
    }
   ],
   "source": [
    "my_list = [12,45,89,56,23,98,56,45,45]\n",
    "print(my_list[0:6])                        # to get up to 5 we take upto 6"
   ]
  },
  {
   "cell_type": "code",
   "execution_count": 16,
   "id": "69a3d09b",
   "metadata": {},
   "outputs": [
    {
     "name": "stdout",
     "output_type": "stream",
     "text": [
      "[1, 2, 3, 4, 5, 6, 7, 8, 9, 10]\n",
      "[2, 3, 4, 5]\n"
     ]
    }
   ],
   "source": [
    "my = [1,2,3,4,5,6,7,8,9,10]\n",
    "print(my[0:])\n",
    "print(my[1:5])\n",
    "\n"
   ]
  },
  {
   "cell_type": "code",
   "execution_count": 3,
   "id": "43a71d35",
   "metadata": {},
   "outputs": [
    {
     "name": "stdout",
     "output_type": "stream",
     "text": [
      "[10, 12, 14, 16, 18, 20]\n"
     ]
    }
   ],
   "source": [
    "thislist = [10,11,12,13,14,15,16,17,18,19,20]\n",
    "print(thislist[0:11:2])                         #here is difference of 2"
   ]
  },
  {
   "cell_type": "code",
   "execution_count": 5,
   "id": "6755a22f",
   "metadata": {},
   "outputs": [
    {
     "name": "stdout",
     "output_type": "stream",
     "text": [
      "[11, 14, 17]\n"
     ]
    }
   ],
   "source": [
    "thislist = [10,11,12,13,14,15,16,17,18,19,20]\n",
    "print(thislist[1:10:3])"
   ]
  },
  {
   "cell_type": "markdown",
   "id": "02fc2858",
   "metadata": {},
   "source": [
    "## Change of list() items"
   ]
  },
  {
   "cell_type": "code",
   "execution_count": 8,
   "id": "0f261383",
   "metadata": {},
   "outputs": [
    {
     "name": "stdout",
     "output_type": "stream",
     "text": [
      "['sana', 'straw', 'cherry']\n"
     ]
    }
   ],
   "source": [
    "thislist = [\"apple\", \"banana\", \"cherry\"]\n",
    "thislist[0] = \"sana\"\n",
    "thislist[1] = \"straw\"\n",
    "print(thislist)"
   ]
  },
  {
   "cell_type": "code",
   "execution_count": 11,
   "id": "3b78ea3e",
   "metadata": {},
   "outputs": [
    {
     "name": "stdout",
     "output_type": "stream",
     "text": [
      "['Sana', 300, 14, 16, -12, -14, -16, -18]\n"
     ]
    }
   ],
   "source": [
    "a = [10,12,14,16,-12,-14,-16,-18]\n",
    "a[0] = \"Sana\"\n",
    "a[1] = 300\n",
    "print(a)"
   ]
  },
  {
   "cell_type": "markdown",
   "id": "216f4b06",
   "metadata": {},
   "source": [
    "# Change a range of item"
   ]
  },
  {
   "cell_type": "code",
   "execution_count": 12,
   "id": "a9efff4d",
   "metadata": {},
   "outputs": [
    {
     "name": "stdout",
     "output_type": "stream",
     "text": [
      "[12, 14, 'book', 'copy', 'pen', 20, -12, -14, -16, -18, -20, 22]\n"
     ]
    }
   ],
   "source": [
    "a = [12,14,16,18,20,-12,-14,-16,-18,-20,22]\n",
    "a[2:4] = \"book\",\"copy\",\"pen\"\n",
    "print(a)"
   ]
  },
  {
   "cell_type": "markdown",
   "id": "2ebb46f4",
   "metadata": {},
   "source": [
    "# Add list[] items"
   ]
  },
  {
   "cell_type": "markdown",
   "id": "d113ef19",
   "metadata": {},
   "source": [
    "### append()"
   ]
  },
  {
   "cell_type": "code",
   "execution_count": 13,
   "id": "dfa58f77",
   "metadata": {},
   "outputs": [
    {
     "name": "stdout",
     "output_type": "stream",
     "text": [
      "['apple', 'banana', 'cherry', 'sana']\n"
     ]
    }
   ],
   "source": [
    "thislist  =[\"apple\",\"banana\",\"cherry\"]\n",
    "thislist.append(\"sana\")\n",
    "print(thislist)"
   ]
  },
  {
   "cell_type": "code",
   "execution_count": 15,
   "id": "9dfad2c9",
   "metadata": {},
   "outputs": [
    {
     "name": "stdout",
     "output_type": "stream",
     "text": [
      "[12, 14, 16, 18, 20, 24]\n"
     ]
    }
   ],
   "source": [
    "m = [12,14,16,18,20]\n",
    "m.append(24)\n",
    "print(m)"
   ]
  },
  {
   "cell_type": "markdown",
   "id": "6b9e3ad2",
   "metadata": {},
   "source": [
    "### remove()  items from list()"
   ]
  },
  {
   "cell_type": "code",
   "execution_count": 16,
   "id": "bf481aca",
   "metadata": {},
   "outputs": [
    {
     "name": "stdout",
     "output_type": "stream",
     "text": [
      "[12, 14, 18, 20]\n"
     ]
    }
   ],
   "source": [
    "m = [12,14,16,18,20]\n",
    "m.remove(16)\n",
    "print(m)"
   ]
  },
  {
   "cell_type": "markdown",
   "id": "247d8215",
   "metadata": {},
   "source": [
    "# join() in the list()"
   ]
  },
  {
   "cell_type": "code",
   "execution_count": 17,
   "id": "a3b67e68",
   "metadata": {},
   "outputs": [
    {
     "name": "stdout",
     "output_type": "stream",
     "text": [
      "['a', 'b', 'c', 1, 2, 3]\n"
     ]
    }
   ],
   "source": [
    "l1 = [\"a\",\"b\",\"c\"]\n",
    "l2 = [1,2,3]\n",
    "\n",
    "l3 = l1 + l2\n",
    "\n",
    "print(l3)"
   ]
  },
  {
   "cell_type": "markdown",
   "id": "017617a4",
   "metadata": {},
   "source": [
    "# Check if a list contain an element"
   ]
  },
  {
   "cell_type": "code",
   "execution_count": 20,
   "id": "f2217d59",
   "metadata": {},
   "outputs": [
    {
     "data": {
      "text/plain": [
       "True"
      ]
     },
     "execution_count": 20,
     "metadata": {},
     "output_type": "execute_result"
    }
   ],
   "source": [
    "L1 = [1,2,3,'a','b','c']\n",
    "'a' in L1"
   ]
  },
  {
   "cell_type": "code",
   "execution_count": 21,
   "id": "db52a4f4",
   "metadata": {},
   "outputs": [
    {
     "data": {
      "text/plain": [
       "False"
      ]
     },
     "execution_count": 21,
     "metadata": {},
     "output_type": "execute_result"
    }
   ],
   "source": [
    "L2 = [1,2,3,'a','b','c']\n",
    "\n",
    "5 in L2"
   ]
  },
  {
   "cell_type": "markdown",
   "id": "082b98a2",
   "metadata": {},
   "source": [
    "# reverse() a list()"
   ]
  },
  {
   "cell_type": "code",
   "execution_count": 22,
   "id": "d6e77eb9",
   "metadata": {},
   "outputs": [
    {
     "name": "stdout",
     "output_type": "stream",
     "text": [
      "['Python', 'ihh', 5, 4, 3, 2, 1]\n"
     ]
    }
   ],
   "source": [
    "mylist = [1,2,3,4,5,'ihh','Python']\n",
    "mylist.reverse()\n",
    "print(mylist)"
   ]
  },
  {
   "cell_type": "markdown",
   "id": "9a96402d",
   "metadata": {},
   "source": [
    "# Interchanging of first and last in list()"
   ]
  },
  {
   "cell_type": "code",
   "execution_count": 25,
   "id": "8faf2744",
   "metadata": {},
   "outputs": [
    {
     "name": "stdout",
     "output_type": "stream",
     "text": [
      "[2, 4, 6, 8, 10, 12, 14, 16, 18, 20]\n",
      "10\n",
      "Now the new list is [12, 4, 6, 8, 10, 12, 2, 16, 18, 20]\n"
     ]
    }
   ],
   "source": [
    "a = [2,4,6,8,10,12,14,16,18,20]\n",
    "print(a)\n",
    "print(len(a))\n",
    "\n",
    "b = a[0]\n",
    "\n",
    "a[0] = a[5]\n",
    "a[6] = b\n",
    "\n",
    "print(\"Now the new list is\", a )"
   ]
  },
  {
   "cell_type": "markdown",
   "id": "ad47cf26",
   "metadata": {},
   "source": [
    "# Multiply all numbers in the list"
   ]
  },
  {
   "cell_type": "code",
   "execution_count": 27,
   "id": "60b89dfd",
   "metadata": {},
   "outputs": [
    {
     "name": "stdout",
     "output_type": "stream",
     "text": [
      "1\n",
      "2\n",
      "6\n",
      "24\n",
      "120\n",
      "720\n",
      "5040\n",
      "40320\n",
      "362880\n",
      "3628800\n"
     ]
    }
   ],
   "source": [
    "a = [1,2,3,4,5,6,7,8,9,10]\n",
    "\n",
    "n = 1\n",
    "\n",
    "for i in range(10):\n",
    "    n = n*a[i]\n",
    "    i = i+1\n",
    "    print(n)"
   ]
  },
  {
   "cell_type": "code",
   "execution_count": null,
   "id": "3e2bda3a",
   "metadata": {},
   "outputs": [],
   "source": []
  }
 ],
 "metadata": {
  "kernelspec": {
   "display_name": "Python 3 (ipykernel)",
   "language": "python",
   "name": "python3"
  },
  "language_info": {
   "codemirror_mode": {
    "name": "ipython",
    "version": 3
   },
   "file_extension": ".py",
   "mimetype": "text/x-python",
   "name": "python",
   "nbconvert_exporter": "python",
   "pygments_lexer": "ipython3",
   "version": "3.11.5"
  }
 },
 "nbformat": 4,
 "nbformat_minor": 5
}
