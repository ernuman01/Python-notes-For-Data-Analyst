{
 "cells": [
  {
   "cell_type": "markdown",
   "id": "f72a83e3",
   "metadata": {},
   "source": [
    "# Create a dictionary"
   ]
  },
  {
   "cell_type": "code",
   "execution_count": 2,
   "id": "e88191b2",
   "metadata": {},
   "outputs": [
    {
     "name": "stdout",
     "output_type": "stream",
     "text": [
      "{'ID': '456', 'Color': 'White', 'year': 1991}\n"
     ]
    }
   ],
   "source": [
    "dict = {\n",
    "    \"ID\": \"456\",\n",
    "    \"Color\" : \"White\",\n",
    "    \"year\" : 1991\n",
    "}\n",
    "\n",
    "print(dict)"
   ]
  },
  {
   "cell_type": "markdown",
   "id": "03a49ae7",
   "metadata": {},
   "source": [
    "# Dictionary items are ordered"
   ]
  },
  {
   "cell_type": "code",
   "execution_count": 4,
   "id": "b7ae5886",
   "metadata": {},
   "outputs": [
    {
     "name": "stdout",
     "output_type": "stream",
     "text": [
      "White\n"
     ]
    }
   ],
   "source": [
    "dict = {\n",
    "    \"ID\": \"456\",\n",
    "    \"Color\" : \"White\",\n",
    "    \"year\" : 1991\n",
    "}\n",
    "\n",
    "print(dict[\"Color\"])"
   ]
  },
  {
   "cell_type": "markdown",
   "id": "fb19ccee",
   "metadata": {},
   "source": [
    "# Duplicates not allowed"
   ]
  },
  {
   "cell_type": "code",
   "execution_count": 5,
   "id": "83c6bea1",
   "metadata": {},
   "outputs": [
    {
     "name": "stdout",
     "output_type": "stream",
     "text": [
      "{'ID': '456', 'Color': 'White', 'year': 1991, 'era': 2000}\n"
     ]
    }
   ],
   "source": [
    "dict = {\n",
    "    \"ID\": \"456\",\n",
    "    \"Color\" : \"White\",\n",
    "    \"year\" : 1991 , \"era\" : 2000\n",
    "}\n",
    "\n",
    "print(dict)"
   ]
  },
  {
   "cell_type": "markdown",
   "id": "6bf937f3",
   "metadata": {},
   "source": [
    "# Dictionary length"
   ]
  },
  {
   "cell_type": "code",
   "execution_count": 6,
   "id": "7d763ac1",
   "metadata": {},
   "outputs": [
    {
     "name": "stdout",
     "output_type": "stream",
     "text": [
      "3\n"
     ]
    }
   ],
   "source": [
    "\n",
    "dict = {\n",
    "    \"ID\": \"456\",\n",
    "    \"Color\" : \"White\",\n",
    "    \"year\" : 1991\n",
    "}\n",
    "\n",
    "print(len(dict))"
   ]
  },
  {
   "cell_type": "markdown",
   "id": "40acc3fb",
   "metadata": {},
   "source": [
    "## Dictionary items - Data Types\n",
    "\n",
    "the values in dictionary items can be of any data type:\n",
    "    "
   ]
  },
  {
   "cell_type": "code",
   "execution_count": 11,
   "id": "b82abb37",
   "metadata": {},
   "outputs": [
    {
     "name": "stdout",
     "output_type": "stream",
     "text": [
      "{'ID': '456', 'Color': 'White', 'year': 1991, 'a': [1, 2, 3, 4, 5], 'b': [2.5, 3.5, 10.6, 20.5], 'c': False}\n",
      "<class 'dict'>\n"
     ]
    }
   ],
   "source": [
    "dict = {\n",
    "    \"ID\": \"456\",\n",
    "    \"Color\" : \"White\",\n",
    "    \"year\" : 1991,\n",
    "    'a':[1,2,3,4,5],\n",
    "    'b':[2.5, 3.5,10.6, 20.5],\n",
    "    'c' :False\n",
    "}\n",
    "\n",
    "print(dict)\n",
    "print(type(dict))"
   ]
  },
  {
   "cell_type": "markdown",
   "id": "6dc8a298",
   "metadata": {},
   "source": [
    "# The dict() constructor"
   ]
  },
  {
   "cell_type": "code",
   "execution_count": 3,
   "id": "ca21f17d",
   "metadata": {},
   "outputs": [
    {
     "name": "stdout",
     "output_type": "stream",
     "text": [
      "{'name': 'priya', 'age': 26, 'country': 'india'}\n",
      "<class 'dict'>\n"
     ]
    }
   ],
   "source": [
    "a = dict(name = \"priya\", age = 26, country = \"india\")\n",
    "print(a)\n",
    "print(type(a))"
   ]
  },
  {
   "cell_type": "code",
   "execution_count": 2,
   "id": "67bfec36",
   "metadata": {},
   "outputs": [
    {
     "name": "stdout",
     "output_type": "stream",
     "text": [
      "{'name': 'Numan'}\n"
     ]
    }
   ],
   "source": [
    "a = dict(name=\"Numan\")\n",
    "print(a)"
   ]
  },
  {
   "cell_type": "markdown",
   "id": "f36d7c17",
   "metadata": {},
   "source": [
    "# Accessing items"
   ]
  },
  {
   "cell_type": "code",
   "execution_count": 15,
   "id": "0081219c",
   "metadata": {},
   "outputs": [
    {
     "name": "stdout",
     "output_type": "stream",
     "text": [
      "35\n"
     ]
    }
   ],
   "source": [
    "a = {\"Name\" : \"Numan\", \"age\" : 35, \"state\" :\" Bihar\"}\n",
    "print(a[\"age\"])"
   ]
  },
  {
   "cell_type": "code",
   "execution_count": 18,
   "id": "f417c90f",
   "metadata": {},
   "outputs": [
    {
     "name": "stdout",
     "output_type": "stream",
     "text": [
      "sana\n"
     ]
    }
   ],
   "source": [
    "a = {\"name\":\"sana\", \"age\":24, \"state\":\"Bihar\"}\n",
    "print(a[\"name\"])"
   ]
  },
  {
   "cell_type": "code",
   "execution_count": 19,
   "id": "d59962aa",
   "metadata": {},
   "outputs": [
    {
     "name": "stdout",
     "output_type": "stream",
     "text": [
      "sana\n"
     ]
    }
   ],
   "source": [
    "a = {\"name\":\"sana\", \"age\":24, \"state\":\"Bihar\"}\n",
    "print(a.get(\"name\"))"
   ]
  },
  {
   "cell_type": "markdown",
   "id": "8c432f23",
   "metadata": {},
   "source": [
    "# Get Keys"
   ]
  },
  {
   "cell_type": "code",
   "execution_count": 20,
   "id": "b5b55698",
   "metadata": {},
   "outputs": [
    {
     "name": "stdout",
     "output_type": "stream",
     "text": [
      "dict_keys(['name', 'age', 'country'])\n",
      "<class 'dict_keys'>\n"
     ]
    }
   ],
   "source": [
    "a = dict(name = \"Sana\", age = 23, country = \"india\")\n",
    "x = a.keys()\n",
    "print(x)\n",
    "print(type(x))"
   ]
  },
  {
   "cell_type": "markdown",
   "id": "be8ff240",
   "metadata": {},
   "source": [
    "# Get Values"
   ]
  },
  {
   "cell_type": "code",
   "execution_count": 21,
   "id": "6cd1e558",
   "metadata": {},
   "outputs": [
    {
     "data": {
      "text/plain": [
       "dict_values(['Sana', 23, 'india'])"
      ]
     },
     "execution_count": 21,
     "metadata": {},
     "output_type": "execute_result"
    }
   ],
   "source": [
    "a = dict(name = \"Sana\", age = 23, country = \"india\")\n",
    "z = a.values()\n",
    "z"
   ]
  },
  {
   "cell_type": "markdown",
   "id": "c68c39db",
   "metadata": {},
   "source": [
    "# Change Values"
   ]
  },
  {
   "cell_type": "code",
   "execution_count": 22,
   "id": "6026fd7d",
   "metadata": {},
   "outputs": [
    {
     "name": "stdout",
     "output_type": "stream",
     "text": [
      "{'Dream': 'sapna', 'cry': 'chillana', 'Expect': 'Ummid'}\n"
     ]
    }
   ],
   "source": [
    "p = {\"Dream\": \"sapna\", \"cry\": \"rona\", \"Expect\":\"Ummid\"}\n",
    "p[\"cry\"]=\"chillana\"\n",
    "print(p)"
   ]
  },
  {
   "cell_type": "markdown",
   "id": "2595f2cd",
   "metadata": {},
   "source": [
    "# Adding Items"
   ]
  },
  {
   "cell_type": "code",
   "execution_count": 23,
   "id": "498c9a4a",
   "metadata": {},
   "outputs": [
    {
     "name": "stdout",
     "output_type": "stream",
     "text": [
      "{'name': 'Sana', 'Sex': 'Female', 'Age': 23, 'Nationality': 'India'}\n"
     ]
    }
   ],
   "source": [
    "a = {\"name\":\"Sana\", \"Sex\":\"Female\",\"Age\":23,\"Nationality\":\"India\"}\n",
    "print(a)"
   ]
  },
  {
   "cell_type": "code",
   "execution_count": 25,
   "id": "a5f6297f",
   "metadata": {},
   "outputs": [
    {
     "name": "stdout",
     "output_type": "stream",
     "text": [
      "{'name': 'Sana', 'Sex': 'Female', 'Age': 23, 'Nationality': 'India', 'age': 24}\n"
     ]
    }
   ],
   "source": [
    "a = {\"name\":\"Sana\", \"Sex\":\"Female\",\"Age\":23,\"Nationality\":\"India\"}\n",
    "a['age'] = 24\n",
    "print(a)"
   ]
  },
  {
   "cell_type": "markdown",
   "id": "ca3d06f8",
   "metadata": {},
   "source": [
    "# update() method"
   ]
  },
  {
   "cell_type": "code",
   "execution_count": 26,
   "id": "c50a7c70",
   "metadata": {},
   "outputs": [
    {
     "name": "stdout",
     "output_type": "stream",
     "text": [
      "{'name': 'Sana', 'Sex': 'Female', 'Age': 23, 'Nationality': 'India', 'Email': 'snajaana@gmail.com'}\n"
     ]
    }
   ],
   "source": [
    "a = {\"name\":\"Sana\", \"Sex\":\"Female\",\"Age\":23,\"Nationality\":\"India\"}\n",
    "a.update({\"Email\": \"snajaana@gmail.com\"})\n",
    "print(a)"
   ]
  },
  {
   "cell_type": "markdown",
   "id": "af27163a",
   "metadata": {},
   "source": [
    "# Remove items from a dictionary"
   ]
  },
  {
   "cell_type": "markdown",
   "id": "ccc1c189",
   "metadata": {},
   "source": [
    "### the pop() method removes the item with the specified key name"
   ]
  },
  {
   "cell_type": "code",
   "execution_count": 28,
   "id": "b48be475",
   "metadata": {},
   "outputs": [
    {
     "name": "stdout",
     "output_type": "stream",
     "text": [
      "{'name': 'Sana', 'Age': 23, 'Nationality': 'India'}\n"
     ]
    }
   ],
   "source": [
    "a = {\"name\":\"Sana\", \"Sex\":\"Female\",\"Age\":23,\"Nationality\":\"India\"}\n",
    "a.pop(\"Sex\")\n",
    "print(a)"
   ]
  },
  {
   "cell_type": "markdown",
   "id": "f98a43fe",
   "metadata": {},
   "source": [
    "## The del() key word removes the item with the specified key name.\n"
   ]
  },
  {
   "cell_type": "code",
   "execution_count": 31,
   "id": "e10a8a34",
   "metadata": {},
   "outputs": [
    {
     "name": "stdout",
     "output_type": "stream",
     "text": [
      "{'name': 'Sana', 'Age': 23, 'Nationality': 'India'}\n"
     ]
    }
   ],
   "source": [
    "a = {\"name\":\"Sana\", \"Sex\":\"Female\",\"Age\":23,\"Nationality\":\"India\"}\n",
    "del a[\"Sex\"]\n",
    "print(a)"
   ]
  },
  {
   "cell_type": "markdown",
   "id": "b5e18bfa",
   "metadata": {},
   "source": [
    "## The clear() method empties the dictionary"
   ]
  },
  {
   "cell_type": "code",
   "execution_count": 34,
   "id": "d88a0576",
   "metadata": {},
   "outputs": [
    {
     "name": "stdout",
     "output_type": "stream",
     "text": [
      "{}\n",
      "<class 'dict'>\n"
     ]
    }
   ],
   "source": [
    "a = {\"name\":\"Sana\", \"Sex\":\"Female\",\"Age\":23,\"Nationality\":\"India\"}\n",
    "a.clear()\n",
    "print(a)\n",
    "print(type(a))"
   ]
  },
  {
   "cell_type": "markdown",
   "id": "7772dac0",
   "metadata": {},
   "source": [
    "# Write a python script to concatenate the following dictionaries to create a new one"
   ]
  },
  {
   "cell_type": "code",
   "execution_count": 3,
   "id": "7e2c515c",
   "metadata": {},
   "outputs": [
    {
     "name": "stdout",
     "output_type": "stream",
     "text": [
      "{1: 10, 2: 20, 3: 30, 4: 40, 5: 50, 6: 60}\n"
     ]
    }
   ],
   "source": [
    "dic1 ={1:10, 2:20}\n",
    "dic2 = {3:30, 4:40}\n",
    "dic3 = {5:50,6:60}\n",
    "dic4 = {}\n",
    "\n",
    "for d in (dic1, dic2, dic3):dic4.update(d)\n",
    "print(dic4)"
   ]
  },
  {
   "cell_type": "markdown",
   "id": "db89e321",
   "metadata": {},
   "source": [
    "# Write a python program to print a dictionary in table format."
   ]
  },
  {
   "cell_type": "code",
   "execution_count": 7,
   "id": "a662a330",
   "metadata": {},
   "outputs": [
    {
     "name": "stdout",
     "output_type": "stream",
     "text": [
      "C1 C2 C3\n",
      "1 5 9\n",
      "2 6 10\n",
      "3 7 11\n"
     ]
    }
   ],
   "source": [
    "my_dict = {'C1':[1,2,3], 'C2':[5,6,7], 'C3':[9,10,11]}\n",
    "for row in zip(*([key] + (value) for key, value in sorted(my_dict.items()))):\n",
    "    print(*row)"
   ]
  },
  {
   "cell_type": "markdown",
   "id": "fd598ee5",
   "metadata": {},
   "source": []
  },
  {
   "cell_type": "markdown",
   "id": "6a447614",
   "metadata": {},
   "source": [
    "# print a dictionary where the keys are numbers between 1 and 15 and the values are square of keys"
   ]
  },
  {
   "cell_type": "code",
   "execution_count": 9,
   "id": "b0d32633",
   "metadata": {},
   "outputs": [
    {
     "name": "stdout",
     "output_type": "stream",
     "text": [
      "{1: 1}\n",
      "{1: 1, 2: 4}\n",
      "{1: 1, 2: 4, 3: 9}\n",
      "{1: 1, 2: 4, 3: 9, 4: 16}\n",
      "{1: 1, 2: 4, 3: 9, 4: 16, 5: 25}\n",
      "{1: 1, 2: 4, 3: 9, 4: 16, 5: 25, 6: 36}\n",
      "{1: 1, 2: 4, 3: 9, 4: 16, 5: 25, 6: 36, 7: 49}\n",
      "{1: 1, 2: 4, 3: 9, 4: 16, 5: 25, 6: 36, 7: 49, 8: 64}\n",
      "{1: 1, 2: 4, 3: 9, 4: 16, 5: 25, 6: 36, 7: 49, 8: 64, 9: 81}\n",
      "{1: 1, 2: 4, 3: 9, 4: 16, 5: 25, 6: 36, 7: 49, 8: 64, 9: 81, 10: 100}\n",
      "{1: 1, 2: 4, 3: 9, 4: 16, 5: 25, 6: 36, 7: 49, 8: 64, 9: 81, 10: 100, 11: 121}\n",
      "{1: 1, 2: 4, 3: 9, 4: 16, 5: 25, 6: 36, 7: 49, 8: 64, 9: 81, 10: 100, 11: 121, 12: 144}\n",
      "{1: 1, 2: 4, 3: 9, 4: 16, 5: 25, 6: 36, 7: 49, 8: 64, 9: 81, 10: 100, 11: 121, 12: 144, 13: 169}\n",
      "{1: 1, 2: 4, 3: 9, 4: 16, 5: 25, 6: 36, 7: 49, 8: 64, 9: 81, 10: 100, 11: 121, 12: 144, 13: 169, 14: 196}\n",
      "{1: 1, 2: 4, 3: 9, 4: 16, 5: 25, 6: 36, 7: 49, 8: 64, 9: 81, 10: 100, 11: 121, 12: 144, 13: 169, 14: 196, 15: 225}\n"
     ]
    }
   ],
   "source": [
    "d = dict()\n",
    "for z in range(1,16):\n",
    "    d[z]=z**2\n",
    "    print(d)"
   ]
  },
  {
   "cell_type": "markdown",
   "id": "e75bd8ae",
   "metadata": {},
   "source": [
    "# Check Whether a given key already exist in a dictionary"
   ]
  },
  {
   "cell_type": "code",
   "execution_count": 14,
   "id": "75a25bf6",
   "metadata": {},
   "outputs": [
    {
     "name": "stdout",
     "output_type": "stream",
     "text": [
      "key is present in dictionary\n",
      "Key is not present in the dictionary\n"
     ]
    }
   ],
   "source": [
    "d = {1:10, 2:20, 3:30, 4:40, 5:50, 6:60}\n",
    "def is_key_present(x):\n",
    "    if x in d :\n",
    "        print(\"key is present in dictionary\")\n",
    "    else:\n",
    "        print(\"Key is not present in the dictionary\")\n",
    "            \n",
    "is_key_present(5)\n",
    "is_key_present(9)"
   ]
  },
  {
   "cell_type": "code",
   "execution_count": 16,
   "id": "b6204903",
   "metadata": {},
   "outputs": [
    {
     "name": "stdout",
     "output_type": "stream",
     "text": [
      "key is present in dictionary\n"
     ]
    }
   ],
   "source": [
    "is_key_present(5)"
   ]
  },
  {
   "cell_type": "code",
   "execution_count": null,
   "id": "69f89711",
   "metadata": {},
   "outputs": [],
   "source": []
  }
 ],
 "metadata": {
  "kernelspec": {
   "display_name": "Python 3 (ipykernel)",
   "language": "python",
   "name": "python3"
  },
  "language_info": {
   "codemirror_mode": {
    "name": "ipython",
    "version": 3
   },
   "file_extension": ".py",
   "mimetype": "text/x-python",
   "name": "python",
   "nbconvert_exporter": "python",
   "pygments_lexer": "ipython3",
   "version": "3.11.5"
  }
 },
 "nbformat": 4,
 "nbformat_minor": 5
}
