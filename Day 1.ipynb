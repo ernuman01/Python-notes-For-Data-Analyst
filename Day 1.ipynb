{
 "cells": [
  {
   "cell_type": "markdown",
   "id": "14df1a91",
   "metadata": {},
   "source": [
    "# Day 1"
   ]
  },
  {
   "cell_type": "code",
   "execution_count": 2,
   "id": "b10dd159",
   "metadata": {},
   "outputs": [
    {
     "name": "stdout",
     "output_type": "stream",
     "text": [
      "Hello World\n"
     ]
    }
   ],
   "source": [
    "print(\"Hello World\")"
   ]
  },
  {
   "cell_type": "code",
   "execution_count": 3,
   "id": "7b9f4e5f",
   "metadata": {},
   "outputs": [
    {
     "name": "stdout",
     "output_type": "stream",
     "text": [
      "5\n"
     ]
    }
   ],
   "source": [
    "print(2+3)"
   ]
  },
  {
   "cell_type": "code",
   "execution_count": 4,
   "id": "08c04880",
   "metadata": {},
   "outputs": [
    {
     "data": {
      "text/plain": [
       "'3.11.5 | packaged by Anaconda, Inc. | (main, Sep 11 2023, 13:26:23) [MSC v.1916 64 bit (AMD64)]'"
      ]
     },
     "execution_count": 4,
     "metadata": {},
     "output_type": "execute_result"
    }
   ],
   "source": [
    "import sys\n",
    "sys.version"
   ]
  },
  {
   "cell_type": "markdown",
   "id": "86205647",
   "metadata": {},
   "source": [
    "# Python comments"
   ]
  },
  {
   "cell_type": "markdown",
   "id": "662a045d",
   "metadata": {},
   "source": [
    "creating a comments\n"
   ]
  },
  {
   "cell_type": "code",
   "execution_count": 7,
   "id": "f0f9c100",
   "metadata": {},
   "outputs": [
    {
     "name": "stdout",
     "output_type": "stream",
     "text": [
      "Hello, world\n"
     ]
    }
   ],
   "source": [
    "print(\"Hello, world\")"
   ]
  },
  {
   "cell_type": "code",
   "execution_count": 8,
   "id": "793cce18",
   "metadata": {},
   "outputs": [
    {
     "name": "stdout",
     "output_type": "stream",
     "text": [
      "This is a Python class,practice\n"
     ]
    }
   ],
   "source": [
    "print(\"This is a Python class,practice\")"
   ]
  },
  {
   "cell_type": "markdown",
   "id": "37f2d53d",
   "metadata": {},
   "source": [
    "# Multilines Commens"
   ]
  },
  {
   "cell_type": "code",
   "execution_count": 9,
   "id": "c7718717",
   "metadata": {},
   "outputs": [
    {
     "name": "stdout",
     "output_type": "stream",
     "text": [
      "aaj kehna jaruri hai ke tumse pyaar hua hai\n",
      "aaj jaane ki zid na karo\n"
     ]
    }
   ],
   "source": [
    "print(\"aaj kehna jaruri hai ke tumse pyaar hua hai\")\n",
    "print(\"aaj jaane ki zid na karo\")"
   ]
  },
  {
   "cell_type": "code",
   "execution_count": null,
   "id": "bbff9141",
   "metadata": {},
   "outputs": [],
   "source": []
  }
 ],
 "metadata": {
  "kernelspec": {
   "display_name": "Python 3 (ipykernel)",
   "language": "python",
   "name": "python3"
  },
  "language_info": {
   "codemirror_mode": {
    "name": "ipython",
    "version": 3
   },
   "file_extension": ".py",
   "mimetype": "text/x-python",
   "name": "python",
   "nbconvert_exporter": "python",
   "pygments_lexer": "ipython3",
   "version": "3.11.5"
  }
 },
 "nbformat": 4,
 "nbformat_minor": 5
}
