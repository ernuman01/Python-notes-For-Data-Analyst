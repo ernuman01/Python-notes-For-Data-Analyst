{
 "cells": [
  {
   "cell_type": "markdown",
   "id": "8e333398",
   "metadata": {},
   "source": [
    "# Numpy Library"
   ]
  },
  {
   "cell_type": "code",
   "execution_count": 1,
   "id": "10717106",
   "metadata": {},
   "outputs": [],
   "source": [
    "import numpy as np"
   ]
  },
  {
   "cell_type": "code",
   "execution_count": 4,
   "id": "1a7706a1",
   "metadata": {},
   "outputs": [
    {
     "name": "stdout",
     "output_type": "stream",
     "text": [
      "1.24.3\n"
     ]
    }
   ],
   "source": [
    "print(np.__version__)     # double underscore"
   ]
  },
  {
   "cell_type": "markdown",
   "id": "c66cd16b",
   "metadata": {},
   "source": [
    "### Create a NumPy ndarray object"
   ]
  },
  {
   "cell_type": "markdown",
   "id": "b8fb3962",
   "metadata": {},
   "source": [
    "NumPy is used to work with arrays. "
   ]
  },
  {
   "cell_type": "markdown",
   "id": "3f3ea22e",
   "metadata": {},
   "source": [
    "The array object in numpy is called ndarray."
   ]
  },
  {
   "cell_type": "markdown",
   "id": "e2026aa9",
   "metadata": {},
   "source": [
    "we can create a numpy ndarray object by using the array() function."
   ]
  },
  {
   "cell_type": "code",
   "execution_count": 5,
   "id": "c29c2f3d",
   "metadata": {},
   "outputs": [],
   "source": [
    "import numpy as np"
   ]
  },
  {
   "cell_type": "code",
   "execution_count": 7,
   "id": "004f9e95",
   "metadata": {},
   "outputs": [
    {
     "name": "stdout",
     "output_type": "stream",
     "text": [
      "[1 2 3 4 5]\n",
      "<class 'numpy.ndarray'>\n"
     ]
    }
   ],
   "source": [
    "arr = np.array([1,2,3,4,5])  #passing list\n",
    "print(arr)\n",
    "print(type(arr))"
   ]
  },
  {
   "cell_type": "markdown",
   "id": "913f324b",
   "metadata": {},
   "source": [
    "To create an ndarray, we can pass alist, tuple or any array-like object into the array() method, and it will be converted into an ndarray:"
   ]
  },
  {
   "cell_type": "markdown",
   "id": "9f780182",
   "metadata": {},
   "source": [
    "### Use a tuple to create a NumPy array:"
   ]
  },
  {
   "cell_type": "code",
   "execution_count": 9,
   "id": "42810c6a",
   "metadata": {},
   "outputs": [],
   "source": [
    "import numpy as np"
   ]
  },
  {
   "cell_type": "code",
   "execution_count": 10,
   "id": "0d64c824",
   "metadata": {},
   "outputs": [
    {
     "name": "stdout",
     "output_type": "stream",
     "text": [
      "[1 2 3 4 5]\n",
      "<class 'numpy.ndarray'>\n"
     ]
    }
   ],
   "source": [
    "arr = np.array((1,2,3,4,5))\n",
    "\n",
    "print(arr)\n",
    "print(type(arr))"
   ]
  },
  {
   "cell_type": "markdown",
   "id": "585a6c78",
   "metadata": {},
   "source": [
    "# Dimension in arrays"
   ]
  },
  {
   "cell_type": "markdown",
   "id": "e8499b1f",
   "metadata": {},
   "source": [
    "0-D arrays or Scalars, are the elements in array. Each value in an array is a 0-D array."
   ]
  },
  {
   "cell_type": "markdown",
   "id": "76b727c2",
   "metadata": {},
   "source": [
    "### Create a 0-D array with value 20"
   ]
  },
  {
   "cell_type": "code",
   "execution_count": 13,
   "id": "1a2e346e",
   "metadata": {},
   "outputs": [
    {
     "name": "stdout",
     "output_type": "stream",
     "text": [
      "42\n",
      "0\n"
     ]
    }
   ],
   "source": [
    "arr = np.array(42)\n",
    "\n",
    "print(arr)\n",
    "print(arr.ndim)"
   ]
  },
  {
   "cell_type": "markdown",
   "id": "7f31d7c4",
   "metadata": {},
   "source": [
    "### 1-D array"
   ]
  },
  {
   "cell_type": "code",
   "execution_count": 12,
   "id": "31f68aa2",
   "metadata": {},
   "outputs": [
    {
     "name": "stdout",
     "output_type": "stream",
     "text": [
      "[1 2 3 4 5]\n",
      "<class 'numpy.ndarray'>\n",
      "1\n"
     ]
    }
   ],
   "source": [
    "arr = np.array([1,2,3,4,5])\n",
    "print(arr)\n",
    "print(type(arr))\n",
    "print(arr.ndim)"
   ]
  },
  {
   "cell_type": "markdown",
   "id": "696f6f48",
   "metadata": {},
   "source": [
    "### 2-D array"
   ]
  },
  {
   "cell_type": "code",
   "execution_count": 15,
   "id": "39cd428d",
   "metadata": {},
   "outputs": [
    {
     "name": "stdout",
     "output_type": "stream",
     "text": [
      "[[ 1  2  3  4  5]\n",
      " [55 66 77 88 99]]\n"
     ]
    }
   ],
   "source": [
    "arr = np.array([[1,2,3,4,5],[55,66,77,88,99]])\n",
    "\n",
    "print(arr)"
   ]
  },
  {
   "cell_type": "code",
   "execution_count": 17,
   "id": "011fcb2c",
   "metadata": {},
   "outputs": [
    {
     "name": "stdout",
     "output_type": "stream",
     "text": [
      "[[ 1  3  5  7  9]\n",
      " [ 2  4  6  8 10]]\n",
      "<class 'numpy.ndarray'>\n",
      "2\n"
     ]
    }
   ],
   "source": [
    "z = np.array([[1,3,5,7,9],[2,4,6,8,10]])\n",
    "print(z)\n",
    "print(type(z))\n",
    "print(z.ndim)"
   ]
  },
  {
   "cell_type": "code",
   "execution_count": 21,
   "id": "287b0418",
   "metadata": {},
   "outputs": [
    {
     "name": "stdout",
     "output_type": "stream",
     "text": [
      "[[2.2, 3.5, 6.5, 0.5, 8.5], [4.5, 6.2, 3.9, 5.1, 3.5]]\n",
      "<class 'list'>\n"
     ]
    }
   ],
   "source": [
    "q = ([[2.2,3.5,6.5,.5,8.5],[4.5,6.2,3.9,5.1,3.5]])\n",
    "print(q)\n",
    "print(type(q))\n"
   ]
  },
  {
   "cell_type": "markdown",
   "id": "02ea34bf",
   "metadata": {},
   "source": [
    "# 3-D Array"
   ]
  },
  {
   "cell_type": "markdown",
   "id": "914b86ce",
   "metadata": {},
   "source": [
    "an array that has 2-D array(matrices) as its elements is called 3-D array."
   ]
  },
  {
   "cell_type": "code",
   "execution_count": 23,
   "id": "4532de06",
   "metadata": {},
   "outputs": [
    {
     "name": "stdout",
     "output_type": "stream",
     "text": [
      "[[[1 2 3]\n",
      "  [2 4 6]]\n",
      "\n",
      " [[4 5 6]\n",
      "  [7 8 9]]]\n",
      "<class 'numpy.ndarray'>\n",
      "3\n"
     ]
    }
   ],
   "source": [
    "z = np.array([[[1,2,3],[2,4,6]],[[4,5,6],[7,8,9]]])\n",
    "\n",
    "print(z)\n",
    "print(type(z))\n",
    "print(z.ndim)"
   ]
  },
  {
   "cell_type": "markdown",
   "id": "75d82182",
   "metadata": {},
   "source": [
    "# Check mumbers of dimensions ?"
   ]
  },
  {
   "cell_type": "code",
   "execution_count": 25,
   "id": "b8754429",
   "metadata": {},
   "outputs": [
    {
     "name": "stdout",
     "output_type": "stream",
     "text": [
      "0\n",
      "1\n",
      "2\n",
      "3\n"
     ]
    }
   ],
   "source": [
    "a = np.array(123456789)\n",
    "b = np.array([1,2,3,4,5])\n",
    "c = np.array([[1,3,5],[2,4,6]])\n",
    "d = np.array([[[1,3,5,7,9],[2,4,6,8,10]],[[5,4,3,2,1],[10,9,8,7,6]]])\n",
    "\n",
    "print(a.ndim)\n",
    "print(b.ndim)\n",
    "print(c.ndim)\n",
    "print(d.ndim)"
   ]
  },
  {
   "cell_type": "markdown",
   "id": "565d5b2d",
   "metadata": {},
   "source": [
    "# Higher Dimension arrays"
   ]
  },
  {
   "cell_type": "markdown",
   "id": "f9007adf",
   "metadata": {},
   "source": [
    "an array can have any numbers of dimensions."
   ]
  },
  {
   "cell_type": "markdown",
   "id": "cad89729",
   "metadata": {},
   "source": [
    "When the array is created, you can define the number of dimensions by using the ndim argument"
   ]
  },
  {
   "cell_type": "markdown",
   "id": "80106097",
   "metadata": {},
   "source": [
    "# Create an array with 5 Dimensions and verify that it has 5 dimensions:"
   ]
  },
  {
   "cell_type": "code",
   "execution_count": 31,
   "id": "c3990c90",
   "metadata": {},
   "outputs": [],
   "source": [
    "import numpy as np"
   ]
  },
  {
   "cell_type": "code",
   "execution_count": 33,
   "id": "dea5099f",
   "metadata": {},
   "outputs": [
    {
     "name": "stdout",
     "output_type": "stream",
     "text": [
      "[[[[[1 2 3 4]]]]]\n",
      "Number of dimensions : 5\n"
     ]
    }
   ],
   "source": [
    "arr = np.array([1,2,3,4], ndmin = 5)\n",
    "print(arr)\n",
    "print(\"Number of dimensions :\", arr.ndim)"
   ]
  },
  {
   "cell_type": "markdown",
   "id": "3a1f540b",
   "metadata": {},
   "source": [
    "### NumPy Array Indexing"
   ]
  },
  {
   "cell_type": "markdown",
   "id": "7391ab36",
   "metadata": {},
   "source": [
    "Array indexing is the same as accessing an array element."
   ]
  },
  {
   "cell_type": "markdown",
   "id": "6c80f291",
   "metadata": {},
   "source": [
    "you can access an array element by referring to its index number."
   ]
  },
  {
   "cell_type": "markdown",
   "id": "71e2d94e",
   "metadata": {},
   "source": [
    "The indexes in numpy arrays starts with 0, meaning that the first element has index 0, and the second has index 1 etc."
   ]
  },
  {
   "cell_type": "markdown",
   "id": "9b6cb322",
   "metadata": {},
   "source": [
    "# Get the first element from the following array:"
   ]
  },
  {
   "cell_type": "code",
   "execution_count": 35,
   "id": "38ac8db6",
   "metadata": {},
   "outputs": [
    {
     "name": "stdout",
     "output_type": "stream",
     "text": [
      "12\n",
      "22\n",
      "33\n"
     ]
    }
   ],
   "source": [
    "arr = np.array([12,22,33,44,55])\n",
    "\n",
    "print(arr[0])\n",
    "print(arr[1])\n",
    "print(arr[2])"
   ]
  },
  {
   "cell_type": "markdown",
   "id": "98f96f7d",
   "metadata": {},
   "source": [
    "## Access 3rd, 6th, and 8th elements from the following array and add them."
   ]
  },
  {
   "cell_type": "code",
   "execution_count": 37,
   "id": "1188eeb1",
   "metadata": {},
   "outputs": [
    {
     "name": "stdout",
     "output_type": "stream",
     "text": [
      "3rd elemed 56.0\n",
      "6th elemed 25.0\n",
      "8th elemed 6.5\n",
      "sum of all elemens 87.5\n"
     ]
    }
   ],
   "source": [
    "m = np.array([45,32,56,98,78,25,5.2,6.5])\n",
    "\n",
    "print('3rd elemed', m[2])\n",
    "print('6th elemed', m[5])\n",
    "print('8th elemed', m[7])\n",
    "\n",
    "\n",
    "print(\"sum of all elemens\", m[2]+m[5]+m[7])"
   ]
  },
  {
   "cell_type": "markdown",
   "id": "42efdee6",
   "metadata": {},
   "source": [
    "# Access 2-D arrays"
   ]
  },
  {
   "cell_type": "markdown",
   "id": "15b39b8c",
   "metadata": {},
   "source": [
    "To access elements from 2-D arrays we can use comma separated integers representing the dimension and the index of the lement"
   ]
  },
  {
   "cell_type": "markdown",
   "id": "7ee060b4",
   "metadata": {},
   "source": [
    "Think of 2-D arrays likea table with rows and column, where the dimension represents the row and the index represents the column"
   ]
  },
  {
   "cell_type": "code",
   "execution_count": 38,
   "id": "783288c5",
   "metadata": {},
   "outputs": [
    {
     "name": "stdout",
     "output_type": "stream",
     "text": [
      "2nd element from 1st row: 20\n"
     ]
    }
   ],
   "source": [
    "arr = np.array([[10,20,30,40,50],[50,60,70,80,90]])\n",
    "\n",
    "print(\"2nd element from 1st row:\", arr[0,1])"
   ]
  },
  {
   "cell_type": "code",
   "execution_count": 39,
   "id": "1b335429",
   "metadata": {},
   "outputs": [
    {
     "name": "stdout",
     "output_type": "stream",
     "text": [
      "4th element from 1st row: 40\n"
     ]
    }
   ],
   "source": [
    "arr = np.array([[10,20,30,40,50],[50,60,70,80,90]])\n",
    "print(\"4th element from 1st row:\", arr[0,3])"
   ]
  },
  {
   "cell_type": "markdown",
   "id": "59541c75",
   "metadata": {},
   "source": [
    "Add the 1st element of row 1 and last element"
   ]
  },
  {
   "cell_type": "code",
   "execution_count": 40,
   "id": "32e57aea",
   "metadata": {},
   "outputs": [
    {
     "name": "stdout",
     "output_type": "stream",
     "text": [
      "first element of 1st row: 10\n",
      "first element of 2nd row: 90\n",
      "sum is: 100\n"
     ]
    }
   ],
   "source": [
    "arr = np.array([[10,20,30,40,50],[50,60,70,80,90]])\n",
    "\n",
    "print(\"first element of 1st row:\", arr[0,0])\n",
    "print(\"first element of 2nd row:\", arr[1,4])\n",
    "print(\"sum is:\", arr[0,0]+arr[1,4])\n"
   ]
  },
  {
   "cell_type": "markdown",
   "id": "540c62c1",
   "metadata": {},
   "source": [
    "# Acces 3-D Array"
   ]
  },
  {
   "cell_type": "markdown",
   "id": "8a5c90f3",
   "metadata": {},
   "source": [
    "To access element from 3-D arrays we can use the comma separated integers representing the \n",
    "dimension and the index of the element"
   ]
  },
  {
   "cell_type": "markdown",
   "id": "091731e1",
   "metadata": {},
   "source": [
    "# Access the 3rd element of the 2nd array of the first array:"
   ]
  },
  {
   "cell_type": "code",
   "execution_count": 45,
   "id": "b6ab8e43",
   "metadata": {},
   "outputs": [
    {
     "name": "stdout",
     "output_type": "stream",
     "text": [
      "[[[ 1  2  3]\n",
      "  [ 4  5  6]]\n",
      "\n",
      " [[44 55 88]\n",
      "  [35 56 73]]]\n"
     ]
    }
   ],
   "source": [
    "arr =np.array([[[1,2,3],[4,5,6]],[[44,55,88],[35,56,73]]])\n",
    "print(arr)\n"
   ]
  },
  {
   "cell_type": "code",
   "execution_count": 46,
   "id": "fdca25ce",
   "metadata": {},
   "outputs": [
    {
     "name": "stdout",
     "output_type": "stream",
     "text": [
      "[[[ 1  2  3]\n",
      "  [ 4  5  6]]\n",
      "\n",
      " [[44 55 88]\n",
      "  [35 56 73]]]\n",
      "6\n"
     ]
    }
   ],
   "source": [
    "#3rd element of the 2nd array of the first array\n",
    "\n",
    "arr =np.array([[[1,2,3],[4,5,6]],[[44,55,88],[35,56,73]]])\n",
    "print(arr)\n",
    "print(arr[0,1,2])"
   ]
  },
  {
   "cell_type": "code",
   "execution_count": 48,
   "id": "edba752a",
   "metadata": {},
   "outputs": [
    {
     "name": "stdout",
     "output_type": "stream",
     "text": [
      "[[[ 1  2  3]\n",
      "  [ 4  5  6]]\n",
      "\n",
      " [[44 55 88]\n",
      "  [35 56 73]]]\n",
      "56\n"
     ]
    }
   ],
   "source": [
    "# 1st element of the 1st array of the 2nd array\n",
    "arr =np.array([[[1,2,3],[4,5,6]],[[44,55,88],[35,56,73]]])\n",
    "print(arr)\n",
    "print(arr[1,1,1])"
   ]
  },
  {
   "cell_type": "code",
   "execution_count": 49,
   "id": "61091508",
   "metadata": {},
   "outputs": [
    {
     "name": "stdout",
     "output_type": "stream",
     "text": [
      "[[[ 1  2  3]\n",
      "  [ 4  5  6]]\n",
      "\n",
      " [[44 55 88]\n",
      "  [35 56 73]]]\n",
      "88\n"
     ]
    }
   ],
   "source": [
    "arr =np.array([[[1,2,3],[4,5,6]],[[44,55,88],[35,56,73]]])\n",
    "print(arr)\n",
    "print(arr[1,0,2])"
   ]
  },
  {
   "cell_type": "code",
   "execution_count": 51,
   "id": "be97d6ea",
   "metadata": {},
   "outputs": [
    {
     "name": "stdout",
     "output_type": "stream",
     "text": [
      "[[[ 1  2  3]\n",
      "  [ 4  5  6]]\n",
      "\n",
      " [[44 55 88]\n",
      "  [35 56 73]]]\n",
      "3\n",
      "6\n"
     ]
    }
   ],
   "source": [
    "arr =np.array([[[1,2,3],[4,5,6]],[[44,55,88],[35,56,73]]])\n",
    "print(arr)\n",
    "print(arr[0,0,2])\n",
    "print(arr[0,1,2])"
   ]
  },
  {
   "cell_type": "markdown",
   "id": "f8e1a180",
   "metadata": {},
   "source": [
    "# Negative indexing"
   ]
  },
  {
   "cell_type": "markdown",
   "id": "f2112c95",
   "metadata": {},
   "source": [
    "### negetive indexing is used to access an array from the end."
   ]
  },
  {
   "cell_type": "code",
   "execution_count": 52,
   "id": "195f072d",
   "metadata": {},
   "outputs": [
    {
     "name": "stdout",
     "output_type": "stream",
     "text": [
      "Last element from 2nd dim: 10\n"
     ]
    }
   ],
   "source": [
    "import numpy as np\n",
    "\n",
    "arr = np.array([[1,2,3,4,5],[6,7,8,9,10]])\n",
    "print(\"Last element from 2nd dim:\", arr[1, -1])"
   ]
  },
  {
   "cell_type": "markdown",
   "id": "72b02428",
   "metadata": {},
   "source": [
    "# Numpy array slicing"
   ]
  },
  {
   "cell_type": "markdown",
   "id": "87c8c131",
   "metadata": {},
   "source": [
    "Slicing in python means taking elements from one given index to another given index."
   ]
  },
  {
   "cell_type": "markdown",
   "id": "d578f3ff",
   "metadata": {},
   "source": [
    "We pass slice instead of index like this[start:end].\n"
   ]
  },
  {
   "cell_type": "markdown",
   "id": "38435d9a",
   "metadata": {},
   "source": [
    "We can also define the step, like this: [start:end:step]."
   ]
  },
  {
   "cell_type": "markdown",
   "id": "215816ad",
   "metadata": {},
   "source": [
    "# Slicing elements from index 1 to index 5 from the fllowing array"
   ]
  },
  {
   "cell_type": "code",
   "execution_count": 54,
   "id": "3dad37d6",
   "metadata": {},
   "outputs": [],
   "source": [
    "import numpy as np"
   ]
  },
  {
   "cell_type": "code",
   "execution_count": 55,
   "id": "27f30d79",
   "metadata": {},
   "outputs": [
    {
     "name": "stdout",
     "output_type": "stream",
     "text": [
      "[2 3 4 5]\n",
      "[1 2 3 4]\n",
      "[1 2 3]\n",
      "[2 4]\n"
     ]
    }
   ],
   "source": [
    "arr = np.array([1,2,3,4,5,6])\n",
    "\n",
    "print(arr[1:5])\n",
    "print(arr[:4])\n",
    "print(arr[0:3])\n",
    "\n",
    "print(arr[1:5:2])"
   ]
  },
  {
   "cell_type": "markdown",
   "id": "761eec89",
   "metadata": {},
   "source": [
    "# Slicing 2d array"
   ]
  },
  {
   "cell_type": "code",
   "execution_count": 57,
   "id": "aaef11b5",
   "metadata": {},
   "outputs": [
    {
     "name": "stdout",
     "output_type": "stream",
     "text": [
      "[200 300 400]\n",
      "[10 20 30]\n"
     ]
    }
   ],
   "source": [
    "a = np.array([[10,20,30,40,50],[100,200,300,400,500]])\n",
    "\n",
    "print(a[1,1:4])\n",
    "print(a[0,0:3])"
   ]
  },
  {
   "cell_type": "markdown",
   "id": "9bc898be",
   "metadata": {},
   "source": [
    "# From both elemens, return index 2"
   ]
  },
  {
   "cell_type": "code",
   "execution_count": 58,
   "id": "78bbf7a3",
   "metadata": {},
   "outputs": [
    {
     "name": "stdout",
     "output_type": "stream",
     "text": [
      "[3 8]\n"
     ]
    }
   ],
   "source": [
    "arr = np.array([[1,2,3,4,5],[6,7,8,9,10]])\n",
    "print(arr[0:2, 2])"
   ]
  },
  {
   "cell_type": "markdown",
   "id": "dd32264d",
   "metadata": {},
   "source": [
    "Slice index 1 to index 4 (not included), this will return 2_d array"
   ]
  },
  {
   "cell_type": "code",
   "execution_count": 59,
   "id": "8a1b90ec",
   "metadata": {},
   "outputs": [
    {
     "name": "stdout",
     "output_type": "stream",
     "text": [
      "[[2 3 4]\n",
      " [4 6 7]]\n"
     ]
    }
   ],
   "source": [
    "arr = np.array([[1,2,3,4,5,6],[5,4,6,7,8,9]])\n",
    "\n",
    "print(arr[0:2, 1:4])"
   ]
  },
  {
   "cell_type": "code",
   "execution_count": null,
   "id": "e9fc841e",
   "metadata": {},
   "outputs": [],
   "source": []
  }
 ],
 "metadata": {
  "kernelspec": {
   "display_name": "Python 3 (ipykernel)",
   "language": "python",
   "name": "python3"
  },
  "language_info": {
   "codemirror_mode": {
    "name": "ipython",
    "version": 3
   },
   "file_extension": ".py",
   "mimetype": "text/x-python",
   "name": "python",
   "nbconvert_exporter": "python",
   "pygments_lexer": "ipython3",
   "version": "3.11.5"
  }
 },
 "nbformat": 4,
 "nbformat_minor": 5
}
