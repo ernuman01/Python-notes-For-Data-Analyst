{
 "cells": [
  {
   "cell_type": "markdown",
   "id": "ec8b9601",
   "metadata": {},
   "source": [
    "# Day 2"
   ]
  },
  {
   "cell_type": "markdown",
   "id": "8d3202f4",
   "metadata": {},
   "source": [
    "# varibles and operators in python"
   ]
  },
  {
   "cell_type": "markdown",
   "id": "778c5e6e",
   "metadata": {},
   "source": [
    "creating a varibles"
   ]
  },
  {
   "cell_type": "code",
   "execution_count": 1,
   "id": "41dff928",
   "metadata": {},
   "outputs": [
    {
     "name": "stdout",
     "output_type": "stream",
     "text": [
      "5\n",
      "apple\n"
     ]
    }
   ],
   "source": [
    "x = 5\n",
    "y = \"apple\"\n",
    "print(x)\n",
    "print(y)"
   ]
  },
  {
   "cell_type": "markdown",
   "id": "7482b6bd",
   "metadata": {},
   "source": [
    "# many values to multiple varibles"
   ]
  },
  {
   "cell_type": "code",
   "execution_count": 4,
   "id": "0b3aa3ad",
   "metadata": {},
   "outputs": [
    {
     "name": "stdout",
     "output_type": "stream",
     "text": [
      "orange\n",
      "banana\n",
      "cherry\n",
      "orange banana cherry\n"
     ]
    }
   ],
   "source": [
    "x,y,z = \"orange\",\"banana\",\"cherry\"\n",
    "print(x)\n",
    "print(y)\n",
    "print(z)\n",
    "\n",
    "print(x,y,z) "
   ]
  },
  {
   "cell_type": "code",
   "execution_count": 6,
   "id": "f105dd78",
   "metadata": {},
   "outputs": [
    {
     "name": "stdout",
     "output_type": "stream",
     "text": [
      "Orange\n",
      "Orange\n",
      "Orange\n"
     ]
    }
   ],
   "source": [
    "x = y= z= \"Orange\"\n",
    "print(x)\n",
    "print(y)\n",
    "print(z)"
   ]
  },
  {
   "cell_type": "markdown",
   "id": "af44ab7b",
   "metadata": {},
   "source": [
    "# Python Output variables"
   ]
  },
  {
   "cell_type": "markdown",
   "id": "7b636fa6",
   "metadata": {},
   "source": [
    "the python print() function is often used to output variables."
   ]
  },
  {
   "cell_type": "code",
   "execution_count": 12,
   "id": "9e2974e9",
   "metadata": {},
   "outputs": [
    {
     "name": "stdout",
     "output_type": "stream",
     "text": [
      "python is awsome\n"
     ]
    }
   ],
   "source": [
    "x = \"python\"\n",
    "y = \"is\"\n",
    "z = \"awsome\"\n",
    "print(x, y, z)\n"
   ]
  },
  {
   "cell_type": "markdown",
   "id": "bf75f9bf",
   "metadata": {},
   "source": [
    "# Data Types In Python"
   ]
  },
  {
   "cell_type": "code",
   "execution_count": 13,
   "id": "8f80865a",
   "metadata": {},
   "outputs": [
    {
     "name": "stdout",
     "output_type": "stream",
     "text": [
      "2\n",
      "<class 'int'>\n"
     ]
    }
   ],
   "source": [
    "x = 2\n",
    "print(x)\n",
    "print(type(x))"
   ]
  },
  {
   "cell_type": "code",
   "execution_count": 14,
   "id": "6676bcf8",
   "metadata": {},
   "outputs": [
    {
     "name": "stdout",
     "output_type": "stream",
     "text": [
      "2.5\n",
      "<class 'float'>\n"
     ]
    }
   ],
   "source": [
    "y = 2.5\n",
    "print(y)\n",
    "print(type(y))"
   ]
  },
  {
   "cell_type": "code",
   "execution_count": 16,
   "id": "669226a1",
   "metadata": {},
   "outputs": [
    {
     "name": "stdout",
     "output_type": "stream",
     "text": [
      "hello sana\n",
      "<class 'str'>\n"
     ]
    }
   ],
   "source": [
    "z = \"hello sana\"\n",
    "print(z)\n",
    "print(type(z))"
   ]
  },
  {
   "cell_type": "code",
   "execution_count": 18,
   "id": "9daa0bb3",
   "metadata": {},
   "outputs": [
    {
     "name": "stdout",
     "output_type": "stream",
     "text": [
      "(2+4j)\n",
      "<class 'complex'>\n"
     ]
    }
   ],
   "source": [
    "a = 2+4j\n",
    "print(a)\n",
    "print(type(a))"
   ]
  },
  {
   "cell_type": "code",
   "execution_count": 19,
   "id": "b4a69c39",
   "metadata": {},
   "outputs": [
    {
     "name": "stdout",
     "output_type": "stream",
     "text": [
      "[1, 2, 3, 4]\n",
      "<class 'list'>\n"
     ]
    }
   ],
   "source": [
    "b = [1,2,3,4]\n",
    "print(b)\n",
    "print(type(b))"
   ]
  },
  {
   "cell_type": "code",
   "execution_count": 20,
   "id": "f7f67f6b",
   "metadata": {},
   "outputs": [
    {
     "name": "stdout",
     "output_type": "stream",
     "text": [
      "(1, 2, 3, 4, 5, 6)\n",
      "<class 'tuple'>\n"
     ]
    }
   ],
   "source": [
    "c = (1,2,3,4,5,6)\n",
    "print(c)\n",
    "print(type(c))"
   ]
  },
  {
   "cell_type": "code",
   "execution_count": 21,
   "id": "9b5cd844",
   "metadata": {},
   "outputs": [
    {
     "name": "stdout",
     "output_type": "stream",
     "text": [
      "{1, 2, 3, 4}\n",
      "<class 'set'>\n"
     ]
    }
   ],
   "source": [
    "d = {1,2,3,4}\n",
    "print(d)\n",
    "print(type(d))"
   ]
  },
  {
   "cell_type": "code",
   "execution_count": 22,
   "id": "2f87f105",
   "metadata": {},
   "outputs": [
    {
     "name": "stdout",
     "output_type": "stream",
     "text": [
      "{'a': 1, 'b': 2}\n",
      "<class 'dict'>\n"
     ]
    }
   ],
   "source": [
    "e = {\"a\":1, \"b\":2}\n",
    "print(e)\n",
    "print(type(e))"
   ]
  },
  {
   "cell_type": "markdown",
   "id": "f6771b26",
   "metadata": {},
   "source": [
    "### So there are (Integer, Float, Complex, String, list, Tuples, set & Dictionary) Data types maily used in data analytics"
   ]
  },
  {
   "cell_type": "markdown",
   "id": "e71f0ed3",
   "metadata": {},
   "source": [
    "# Operators in Python"
   ]
  },
  {
   "cell_type": "markdown",
   "id": "8923732d",
   "metadata": {},
   "source": [
    "### 1. Addition"
   ]
  },
  {
   "cell_type": "code",
   "execution_count": 23,
   "id": "0c10e00c",
   "metadata": {},
   "outputs": [
    {
     "name": "stdout",
     "output_type": "stream",
     "text": [
      "15\n"
     ]
    }
   ],
   "source": [
    "a = 5\n",
    "b =10\n",
    "print(a+b)"
   ]
  },
  {
   "cell_type": "code",
   "execution_count": 24,
   "id": "c29e2898",
   "metadata": {},
   "outputs": [
    {
     "name": "stdout",
     "output_type": "stream",
     "text": [
      "20.15\n"
     ]
    }
   ],
   "source": [
    "a =10\n",
    "b = 10.15\n",
    "print(a+b)"
   ]
  },
  {
   "cell_type": "code",
   "execution_count": 25,
   "id": "abc6c3d6",
   "metadata": {},
   "outputs": [
    {
     "name": "stdout",
     "output_type": "stream",
     "text": [
      "(6+2j)\n"
     ]
    }
   ],
   "source": [
    "a = 3+2j\n",
    "b = 3\n",
    "print(a+b)"
   ]
  },
  {
   "cell_type": "code",
   "execution_count": 31,
   "id": "e0197e13",
   "metadata": {},
   "outputs": [
    {
     "name": "stdout",
     "output_type": "stream",
     "text": [
      "hello Sana\n",
      "hello Sana\n",
      "hello_ Sana\n"
     ]
    }
   ],
   "source": [
    "a = \"hello\"\n",
    "b = \" Sana\"\n",
    "print(a+b)\n",
    "print(a +\"\"+ b)\n",
    "print(a +\"_\"+ b)"
   ]
  },
  {
   "cell_type": "code",
   "execution_count": 35,
   "id": "19880880",
   "metadata": {},
   "outputs": [
    {
     "name": "stdout",
     "output_type": "stream",
     "text": [
      "(10.456+7j)\n",
      "<class 'complex'>\n"
     ]
    }
   ],
   "source": [
    "a = 2\n",
    "b = 3.456\n",
    "c = 2+7j\n",
    "d = 3 \n",
    "e = a+b+c+d\n",
    "print(e)\n",
    "print(type(e))"
   ]
  },
  {
   "cell_type": "markdown",
   "id": "32c8beae",
   "metadata": {},
   "source": [
    "### Substraction"
   ]
  },
  {
   "cell_type": "code",
   "execution_count": 38,
   "id": "19afc606",
   "metadata": {},
   "outputs": [
    {
     "name": "stdout",
     "output_type": "stream",
     "text": [
      "-10\n",
      "10\n"
     ]
    }
   ],
   "source": [
    "a = 20\n",
    "b = 30\n",
    "print(a-b)\n",
    "print(b-a)\n"
   ]
  },
  {
   "cell_type": "code",
   "execution_count": 39,
   "id": "17e252ef",
   "metadata": {},
   "outputs": [
    {
     "name": "stdout",
     "output_type": "stream",
     "text": [
      "10\n",
      "<class 'int'>\n"
     ]
    }
   ],
   "source": [
    "a = 20\n",
    "b = 30\n",
    "c = b-a\n",
    "print(c)\n",
    "print(type(c))"
   ]
  },
  {
   "cell_type": "code",
   "execution_count": 40,
   "id": "f17bc53b",
   "metadata": {},
   "outputs": [
    {
     "ename": "TypeError",
     "evalue": "unsupported operand type(s) for -: 'str' and 'str'",
     "output_type": "error",
     "traceback": [
      "\u001b[1;31m---------------------------------------------------------------------------\u001b[0m",
      "\u001b[1;31mTypeError\u001b[0m                                 Traceback (most recent call last)",
      "Cell \u001b[1;32mIn[40], line 3\u001b[0m\n\u001b[0;32m      1\u001b[0m a \u001b[38;5;241m=\u001b[39m \u001b[38;5;124m\"\u001b[39m\u001b[38;5;124mHello\u001b[39m\u001b[38;5;124m\"\u001b[39m\n\u001b[0;32m      2\u001b[0m b \u001b[38;5;241m=\u001b[39m \u001b[38;5;124m\"\u001b[39m\u001b[38;5;124m Sana\u001b[39m\u001b[38;5;124m\"\u001b[39m\n\u001b[1;32m----> 3\u001b[0m \u001b[38;5;28mprint\u001b[39m(a\u001b[38;5;241m-\u001b[39mb)\n",
      "\u001b[1;31mTypeError\u001b[0m: unsupported operand type(s) for -: 'str' and 'str'"
     ]
    }
   ],
   "source": [
    "a = \"Hello\"\n",
    "b = \" Sana\"\n",
    "print(a-b)"
   ]
  },
  {
   "cell_type": "markdown",
   "id": "c98d0392",
   "metadata": {},
   "source": [
    "### Multiplications"
   ]
  },
  {
   "cell_type": "code",
   "execution_count": 41,
   "id": "757bc60b",
   "metadata": {},
   "outputs": [
    {
     "name": "stdout",
     "output_type": "stream",
     "text": [
      "100\n"
     ]
    }
   ],
   "source": [
    "a = 10\n",
    "b = 10\n",
    "print(a*b)"
   ]
  },
  {
   "cell_type": "code",
   "execution_count": 42,
   "id": "13a69622",
   "metadata": {},
   "outputs": [
    {
     "name": "stdout",
     "output_type": "stream",
     "text": [
      "16978.45\n",
      "<class 'float'>\n"
     ]
    }
   ],
   "source": [
    "x = 120.5\n",
    "y = 140.9\n",
    "z = x*y\n",
    "print(z)\n",
    "print(type(z))"
   ]
  },
  {
   "cell_type": "markdown",
   "id": "ca041c26",
   "metadata": {},
   "source": [
    "### Division"
   ]
  },
  {
   "cell_type": "code",
   "execution_count": 43,
   "id": "6ed3f040",
   "metadata": {},
   "outputs": [
    {
     "name": "stdout",
     "output_type": "stream",
     "text": [
      "10.0\n"
     ]
    }
   ],
   "source": [
    "z = 100\n",
    "a = 10\n",
    "print(z/a)"
   ]
  },
  {
   "cell_type": "code",
   "execution_count": 44,
   "id": "4a90c192",
   "metadata": {},
   "outputs": [
    {
     "name": "stdout",
     "output_type": "stream",
     "text": [
      "(0.5+1j)\n"
     ]
    }
   ],
   "source": [
    "a = 10+20j\n",
    "b = 20\n",
    "print(a/b)"
   ]
  },
  {
   "cell_type": "markdown",
   "id": "9ea44ecf",
   "metadata": {},
   "source": [
    "### Modulus"
   ]
  },
  {
   "cell_type": "code",
   "execution_count": 45,
   "id": "c35f9a91",
   "metadata": {},
   "outputs": [
    {
     "name": "stdout",
     "output_type": "stream",
     "text": [
      "0\n"
     ]
    }
   ],
   "source": [
    "a = 12\n",
    "b = 3\n",
    "print(a%b)"
   ]
  },
  {
   "cell_type": "code",
   "execution_count": 46,
   "id": "54dffea1",
   "metadata": {},
   "outputs": [
    {
     "name": "stdout",
     "output_type": "stream",
     "text": [
      "4.0\n"
     ]
    }
   ],
   "source": [
    "a = 20\n",
    "b = 5\n",
    "print(a/b)"
   ]
  },
  {
   "cell_type": "code",
   "execution_count": 47,
   "id": "cba2103f",
   "metadata": {},
   "outputs": [
    {
     "name": "stdout",
     "output_type": "stream",
     "text": [
      "1\n"
     ]
    }
   ],
   "source": [
    "a =19\n",
    "b = 3\n",
    "print(a%b)"
   ]
  },
  {
   "cell_type": "code",
   "execution_count": 48,
   "id": "0a6a3f4f",
   "metadata": {},
   "outputs": [
    {
     "ename": "TypeError",
     "evalue": "unsupported operand type(s) for %: 'complex' and 'int'",
     "output_type": "error",
     "traceback": [
      "\u001b[1;31m---------------------------------------------------------------------------\u001b[0m",
      "\u001b[1;31mTypeError\u001b[0m                                 Traceback (most recent call last)",
      "Cell \u001b[1;32mIn[48], line 3\u001b[0m\n\u001b[0;32m      1\u001b[0m b \u001b[38;5;241m=\u001b[39m \u001b[38;5;241m2\u001b[39m \u001b[38;5;241m+\u001b[39m \u001b[38;5;241m5\u001b[39mj\n\u001b[0;32m      2\u001b[0m c \u001b[38;5;241m=\u001b[39m \u001b[38;5;241m5\u001b[39m\n\u001b[1;32m----> 3\u001b[0m \u001b[38;5;28mprint\u001b[39m(b\u001b[38;5;241m%\u001b[39mc)\n",
      "\u001b[1;31mTypeError\u001b[0m: unsupported operand type(s) for %: 'complex' and 'int'"
     ]
    }
   ],
   "source": [
    "b = 2 + 5j\n",
    "c = 5\n",
    "print(b%c)"
   ]
  },
  {
   "cell_type": "markdown",
   "id": "258440a2",
   "metadata": {},
   "source": [
    "### Exponent"
   ]
  },
  {
   "cell_type": "code",
   "execution_count": 49,
   "id": "53c469e2",
   "metadata": {},
   "outputs": [
    {
     "name": "stdout",
     "output_type": "stream",
     "text": [
      "64\n"
     ]
    }
   ],
   "source": [
    "a = 4\n",
    "print(a**3)"
   ]
  },
  {
   "cell_type": "code",
   "execution_count": 50,
   "id": "dbe3dc20",
   "metadata": {},
   "outputs": [
    {
     "name": "stdout",
     "output_type": "stream",
     "text": [
      "8\n"
     ]
    }
   ],
   "source": [
    "a = 2\n",
    "print(a**3)"
   ]
  },
  {
   "cell_type": "code",
   "execution_count": 51,
   "id": "00a1171b",
   "metadata": {},
   "outputs": [
    {
     "name": "stdout",
     "output_type": "stream",
     "text": [
      "166.375\n"
     ]
    }
   ],
   "source": [
    "z = 5.5\n",
    "print(z**3)"
   ]
  },
  {
   "cell_type": "code",
   "execution_count": 52,
   "id": "a38da6cd",
   "metadata": {},
   "outputs": [
    {
     "name": "stdout",
     "output_type": "stream",
     "text": [
      "<class 'bool'>\n",
      "<class 'bool'>\n"
     ]
    }
   ],
   "source": [
    "a = True\n",
    "b = False\n",
    "print(type(a))\n",
    "print(type(b))"
   ]
  },
  {
   "cell_type": "code",
   "execution_count": 54,
   "id": "1a6542f5",
   "metadata": {},
   "outputs": [
    {
     "name": "stdout",
     "output_type": "stream",
     "text": [
      "False\n",
      "False\n"
     ]
    }
   ],
   "source": [
    "print(a and b)\n",
    "print(b and a)"
   ]
  },
  {
   "cell_type": "code",
   "execution_count": 55,
   "id": "8f4d4a78",
   "metadata": {},
   "outputs": [
    {
     "name": "stdout",
     "output_type": "stream",
     "text": [
      "True\n",
      "True\n"
     ]
    }
   ],
   "source": [
    "print(a or b)\n",
    "print(b or a)"
   ]
  },
  {
   "cell_type": "code",
   "execution_count": 56,
   "id": "5fea237d",
   "metadata": {},
   "outputs": [
    {
     "name": "stdout",
     "output_type": "stream",
     "text": [
      "False\n"
     ]
    }
   ],
   "source": [
    "print(not(a))"
   ]
  },
  {
   "cell_type": "markdown",
   "id": "75f8b3f1",
   "metadata": {},
   "source": [
    "Q 1. Find the area of a rectangle with length 12 cm and breadth 6 cm"
   ]
  },
  {
   "cell_type": "code",
   "execution_count": 58,
   "id": "1a18ffb4",
   "metadata": {},
   "outputs": [
    {
     "name": "stdout",
     "output_type": "stream",
     "text": [
      "the length of rectangle is 12 cm\n",
      "the breadth of rectangle is 6 cm\n",
      "the area of rectangle is  72\n",
      "12 6 72\n"
     ]
    }
   ],
   "source": [
    "a = 12\n",
    "print(\"the length of rectangle is 12 cm\")\n",
    "b = 6 \n",
    "print(\"the breadth of rectangle is 6 cm\")\n",
    "area = a*b\n",
    "print(\"the area of rectangle is \", area)\n",
    "print(a,b,area)"
   ]
  },
  {
   "cell_type": "code",
   "execution_count": null,
   "id": "9d5a00d2",
   "metadata": {},
   "outputs": [],
   "source": []
  }
 ],
 "metadata": {
  "kernelspec": {
   "display_name": "Python 3 (ipykernel)",
   "language": "python",
   "name": "python3"
  },
  "language_info": {
   "codemirror_mode": {
    "name": "ipython",
    "version": 3
   },
   "file_extension": ".py",
   "mimetype": "text/x-python",
   "name": "python",
   "nbconvert_exporter": "python",
   "pygments_lexer": "ipython3",
   "version": "3.11.5"
  }
 },
 "nbformat": 4,
 "nbformat_minor": 5
}
