{
 "cells": [
  {
   "cell_type": "markdown",
   "id": "8198fdfb",
   "metadata": {},
   "source": [
    "# string"
   ]
  },
  {
   "cell_type": "code",
   "execution_count": 1,
   "id": "fc3c8099",
   "metadata": {},
   "outputs": [
    {
     "name": "stdout",
     "output_type": "stream",
     "text": [
      "hello\n"
     ]
    }
   ],
   "source": [
    "a = \"Hello\"\n",
    "print(a)"
   ]
  },
  {
   "cell_type": "markdown",
   "id": "c1d57bbf",
   "metadata": {},
   "source": [
    "### Multiline strings"
   ]
  },
  {
   "cell_type": "code",
   "execution_count": 3,
   "id": "bd6cb690",
   "metadata": {},
   "outputs": [
    {
     "name": "stdout",
     "output_type": "stream",
     "text": [
      "A data analyst gathers data, clean, manipulate and studies the data set to get a usful information\n",
      "<class 'str'>\n"
     ]
    }
   ],
   "source": [
    "b = \"A data analyst gathers data, clean, manipulate and studies the data set to get a usful information\"\n",
    "print(b)\n",
    "print(type(b))"
   ]
  },
  {
   "cell_type": "markdown",
   "id": "b489d1c2",
   "metadata": {},
   "source": [
    "### Indexing of \"strings\""
   ]
  },
  {
   "cell_type": "code",
   "execution_count": 10,
   "id": "b6a811b2",
   "metadata": {},
   "outputs": [
    {
     "name": "stdout",
     "output_type": "stream",
     "text": [
      "h\n"
     ]
    }
   ],
   "source": [
    "a = \"hello sana\"\n",
    "print(a[0])"
   ]
  },
  {
   "cell_type": "code",
   "execution_count": 11,
   "id": "6b402ee8",
   "metadata": {},
   "outputs": [
    {
     "name": "stdout",
     "output_type": "stream",
     "text": [
      "j\n"
     ]
    }
   ],
   "source": [
    "z = \"saajan chali sasural\"\n",
    "print(z[3])"
   ]
  },
  {
   "cell_type": "code",
   "execution_count": 6,
   "id": "ecb1a35a",
   "metadata": {},
   "outputs": [
    {
     "name": "stdout",
     "output_type": "stream",
     "text": [
      "h\n"
     ]
    }
   ],
   "source": [
    "n = \"sherShah\"\n",
    "print(n[-1])"
   ]
  },
  {
   "cell_type": "code",
   "execution_count": 12,
   "id": "0d24248d",
   "metadata": {},
   "outputs": [
    {
     "name": "stdout",
     "output_type": "stream",
     "text": [
      "r\n"
     ]
    }
   ],
   "source": [
    "x = \"sasaram\"\n",
    "print(x[-3])"
   ]
  },
  {
   "cell_type": "code",
   "execution_count": 13,
   "id": "716f7a9e",
   "metadata": {},
   "outputs": [
    {
     "name": "stdout",
     "output_type": "stream",
     "text": [
      "a\n"
     ]
    }
   ],
   "source": [
    "x = \"sasaram\"\n",
    "print(x[-4])"
   ]
  },
  {
   "cell_type": "code",
   "execution_count": 9,
   "id": "61a9694b",
   "metadata": {},
   "outputs": [
    {
     "name": "stdout",
     "output_type": "stream",
     "text": [
      "s\n"
     ]
    }
   ],
   "source": [
    "x = \"sasaram\"\n",
    "print(x[0])"
   ]
  },
  {
   "cell_type": "markdown",
   "id": "14d8dc17",
   "metadata": {},
   "source": [
    "### slicing of \"strings\""
   ]
  },
  {
   "cell_type": "code",
   "execution_count": 15,
   "id": "9963a0f0",
   "metadata": {},
   "outputs": [
    {
     "name": "stdout",
     "output_type": "stream",
     "text": [
      "how a\n"
     ]
    }
   ],
   "source": [
    "s = \"how are you\"\n",
    "print(s[0:5])"
   ]
  },
  {
   "cell_type": "code",
   "execution_count": 16,
   "id": "13bfa604",
   "metadata": {},
   "outputs": [
    {
     "name": "stdout",
     "output_type": "stream",
     "text": [
      "how a\n"
     ]
    }
   ],
   "source": [
    "s = \"how are you\"\n",
    "print(s[:5])"
   ]
  },
  {
   "cell_type": "code",
   "execution_count": 17,
   "id": "78ce12fa",
   "metadata": {},
   "outputs": [
    {
     "name": "stdout",
     "output_type": "stream",
     "text": [
      "w a\n"
     ]
    }
   ],
   "source": [
    "s = \"how are you\"\n",
    "print(s[2:5])"
   ]
  },
  {
   "cell_type": "code",
   "execution_count": 18,
   "id": "01f3a6dd",
   "metadata": {},
   "outputs": [
    {
     "name": "stdout",
     "output_type": "stream",
     "text": [
      "hwa\n"
     ]
    }
   ],
   "source": [
    "s = \"how are you\"\n",
    "print(s[0:5:2])"
   ]
  },
  {
   "cell_type": "code",
   "execution_count": 20,
   "id": "d13f2b08",
   "metadata": {},
   "outputs": [
    {
     "name": "stdout",
     "output_type": "stream",
     "text": [
      "adgj\n"
     ]
    }
   ],
   "source": [
    "z = \"abcdefghijklmnop\"\n",
    "print(z[0:10:3])"
   ]
  },
  {
   "cell_type": "code",
   "execution_count": 21,
   "id": "7f060bfa",
   "metadata": {},
   "outputs": [
    {
     "name": "stdout",
     "output_type": "stream",
     "text": [
      "adgjmp\n"
     ]
    }
   ],
   "source": [
    "z = \"abcdefghijklmnop\"\n",
    "print(z[::3])"
   ]
  },
  {
   "cell_type": "markdown",
   "id": "a0600f9a",
   "metadata": {},
   "source": [
    "### Rversing of a \"string\""
   ]
  },
  {
   "cell_type": "code",
   "execution_count": 23,
   "id": "053365e8",
   "metadata": {},
   "outputs": [
    {
     "name": "stdout",
     "output_type": "stream",
     "text": [
      "ponmlkjihgfedcba\n"
     ]
    }
   ],
   "source": [
    "z = \"abcdefghijklmnop\"\n",
    "print(z[::-1])"
   ]
  },
  {
   "cell_type": "code",
   "execution_count": null,
   "id": "0b10f97d",
   "metadata": {},
   "outputs": [],
   "source": []
  },
  {
   "cell_type": "markdown",
   "id": "3be4c5ca",
   "metadata": {},
   "source": [
    "Finding the length of a string"
   ]
  },
  {
   "cell_type": "code",
   "execution_count": 24,
   "id": "664b02ef",
   "metadata": {},
   "outputs": [
    {
     "name": "stdout",
     "output_type": "stream",
     "text": [
      "8\n"
     ]
    }
   ],
   "source": [
    "a = \"SanaJaan\"\n",
    "print(len(a))"
   ]
  },
  {
   "cell_type": "code",
   "execution_count": 26,
   "id": "3e5b3e06",
   "metadata": {},
   "outputs": [
    {
     "name": "stdout",
     "output_type": "stream",
     "text": [
      "25\n",
      "<class 'str'>\n"
     ]
    }
   ],
   "source": [
    "z = \" aaj jaane ki zid na kari\"\n",
    "print(len(z))\n",
    "print(type(z))"
   ]
  },
  {
   "cell_type": "markdown",
   "id": "8c03cb24",
   "metadata": {},
   "source": [
    "# Check \"string\""
   ]
  },
  {
   "cell_type": "markdown",
   "id": "4fa041d4",
   "metadata": {},
   "source": [
    "to check if a certain phrase or character is present in string. we can use the keyword \"in\""
   ]
  },
  {
   "cell_type": "code",
   "execution_count": 29,
   "id": "c2330ca8",
   "metadata": {},
   "outputs": [
    {
     "name": "stdout",
     "output_type": "stream",
     "text": [
      "True\n",
      "False\n"
     ]
    }
   ],
   "source": [
    "a = \"new Delhi is the capital of india\"\n",
    "print(\"capital\" in a )\n",
    "print(\"Agra\" in a )"
   ]
  },
  {
   "cell_type": "code",
   "execution_count": 31,
   "id": "49675c01",
   "metadata": {},
   "outputs": [
    {
     "name": "stdout",
     "output_type": "stream",
     "text": [
      "yes, cap is present\n"
     ]
    }
   ],
   "source": [
    "a = \"Patna is the cap of Bihar\"\n",
    "if \"cap\" in a:\n",
    "    print(\"yes, cap is present\")"
   ]
  },
  {
   "cell_type": "markdown",
   "id": "3320b950",
   "metadata": {},
   "source": [
    "### Check \"if not\""
   ]
  },
  {
   "cell_type": "code",
   "execution_count": 34,
   "id": "8cde59e0",
   "metadata": {},
   "outputs": [
    {
     "name": "stdout",
     "output_type": "stream",
     "text": [
      "False\n"
     ]
    }
   ],
   "source": [
    "a = \"new delhi is the capital of india\"\n",
    "print(\"delhi\" not in a)"
   ]
  },
  {
   "cell_type": "markdown",
   "id": "c1358e77",
   "metadata": {},
   "source": [
    "Modifying \"string\""
   ]
  },
  {
   "cell_type": "markdown",
   "id": "8fc3e64f",
   "metadata": {},
   "source": [
    "## Upper method"
   ]
  },
  {
   "cell_type": "markdown",
   "id": "c22b9b4a",
   "metadata": {},
   "source": [
    "the upper() method returns the string in upper case"
   ]
  },
  {
   "cell_type": "code",
   "execution_count": 35,
   "id": "60d2c054",
   "metadata": {},
   "outputs": [
    {
     "name": "stdout",
     "output_type": "stream",
     "text": [
      "HELOO SANA\n"
     ]
    }
   ],
   "source": [
    "a = 'Heloo sana'\n",
    "print(a.upper())"
   ]
  },
  {
   "cell_type": "markdown",
   "id": "cacf1635",
   "metadata": {},
   "source": [
    "The \"lower()\" metghod returns the string in lower case"
   ]
  },
  {
   "cell_type": "code",
   "execution_count": 36,
   "id": "877533cd",
   "metadata": {},
   "outputs": [
    {
     "name": "stdout",
     "output_type": "stream",
     "text": [
      "hello sana jaan\n"
     ]
    }
   ],
   "source": [
    "z = \"Hello Sana jaan\"\n",
    "print(z.lower())"
   ]
  },
  {
   "cell_type": "markdown",
   "id": "c0b4c5ca",
   "metadata": {},
   "source": [
    "# Replacing in string"
   ]
  },
  {
   "cell_type": "markdown",
   "id": "ceeb1b25",
   "metadata": {},
   "source": [
    "The replace() method replaces a string with another string"
   ]
  },
  {
   "cell_type": "markdown",
   "id": "f4bbc11f",
   "metadata": {},
   "source": [
    "a = \"Hello sanajaan\"\n",
    "print(a.replace(\"j\", \"J\"))\n",
    "\n",
    "print(a.replace(\"n\", \"N\"))\n",
    "\n",
    "print(a.replace(\"H\", \"Jh\"))\n"
   ]
  },
  {
   "cell_type": "markdown",
   "id": "5d554813",
   "metadata": {},
   "source": [
    "# string concatenation"
   ]
  },
  {
   "cell_type": "code",
   "execution_count": 40,
   "id": "263d28a1",
   "metadata": {},
   "outputs": [
    {
     "name": "stdout",
     "output_type": "stream",
     "text": [
      "Sana jaan\n"
     ]
    }
   ],
   "source": [
    "a = \"Sana\"\n",
    "b = \"jaan\"\n",
    "c = a +\" \"+b\n",
    "print(c)"
   ]
  },
  {
   "cell_type": "markdown",
   "id": "15c0cff8",
   "metadata": {},
   "source": [
    "# string index( method)"
   ]
  },
  {
   "cell_type": "code",
   "execution_count": 47,
   "id": "e3fede43",
   "metadata": {},
   "outputs": [
    {
     "name": "stdout",
     "output_type": "stream",
     "text": [
      "0\n"
     ]
    }
   ],
   "source": [
    "a  = \"welcome to my life.\"\n",
    "x  =a.index(\"w\")\n",
    "\n",
    "print(x)"
   ]
  },
  {
   "cell_type": "code",
   "execution_count": 49,
   "id": "637895c6",
   "metadata": {},
   "outputs": [
    {
     "name": "stdout",
     "output_type": "stream",
     "text": [
      "3\n"
     ]
    }
   ],
   "source": [
    "a  = \"welcome to my life.\"\n",
    "x  =a.index(\"c\")\n",
    "\n",
    "print(x)"
   ]
  },
  {
   "cell_type": "markdown",
   "id": "0dbd5436",
   "metadata": {},
   "source": [
    "insert a string between two string also find the length of a string"
   ]
  },
  {
   "cell_type": "code",
   "execution_count": 52,
   "id": "fd3fc813",
   "metadata": {},
   "outputs": [
    {
     "name": "stdout",
     "output_type": "stream",
     "text": [
      "New Delhi is the capital of indiaandits a beautiful city\n",
      "56\n",
      "<class 'str'>\n"
     ]
    }
   ],
   "source": [
    "a = \"New Delhi is the capital of india\"\n",
    "b = \"its a beautiful city\"\n",
    "\n",
    "c = (a + \"and\" + b.lower())\n",
    "\n",
    "print(c)\n",
    "print(len(c))\n",
    "print(type(c))"
   ]
  },
  {
   "cell_type": "markdown",
   "id": "67f61b59",
   "metadata": {},
   "source": [
    "# find()"
   ]
  },
  {
   "cell_type": "markdown",
   "id": "5b6a4a30",
   "metadata": {},
   "source": [
    "a = \"Sana is very beautiful\"\n",
    "b = a.find(\"S\")\n",
    "print(b"
   ]
  },
  {
   "cell_type": "code",
   "execution_count": 54,
   "id": "e5597fee",
   "metadata": {},
   "outputs": [
    {
     "name": "stdout",
     "output_type": "stream",
     "text": [
      "0\n"
     ]
    }
   ],
   "source": [
    "a = \"Sana is very beautiful\" \n",
    "b = a.find(\"S\") \n",
    "print(b)"
   ]
  },
  {
   "cell_type": "code",
   "execution_count": 58,
   "id": "d41a7818",
   "metadata": {},
   "outputs": [
    {
     "name": "stdout",
     "output_type": "stream",
     "text": [
      "End of String\n"
     ]
    }
   ],
   "source": [
    "a = \"End of String\"\n",
    "print(a)"
   ]
  },
  {
   "cell_type": "markdown",
   "id": "3e07b192",
   "metadata": {},
   "source": [
    "# \"End of String\"\n"
   ]
  },
  {
   "cell_type": "code",
   "execution_count": null,
   "id": "626cc67a",
   "metadata": {},
   "outputs": [],
   "source": []
  }
 ],
 "metadata": {
  "kernelspec": {
   "display_name": "Python 3 (ipykernel)",
   "language": "python",
   "name": "python3"
  },
  "language_info": {
   "codemirror_mode": {
    "name": "ipython",
    "version": 3
   },
   "file_extension": ".py",
   "mimetype": "text/x-python",
   "name": "python",
   "nbconvert_exporter": "python",
   "pygments_lexer": "ipython3",
   "version": "3.11.5"
  }
 },
 "nbformat": 4,
 "nbformat_minor": 5
}
