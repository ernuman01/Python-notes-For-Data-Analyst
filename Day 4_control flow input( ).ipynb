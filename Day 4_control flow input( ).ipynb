{
 "cells": [
  {
   "cell_type": "markdown",
   "id": "7931bdf0",
   "metadata": {},
   "source": [
    "# control flow statement"
   ]
  },
  {
   "cell_type": "markdown",
   "id": "0d1bfea7",
   "metadata": {},
   "source": [
    "### if condition"
   ]
  },
  {
   "cell_type": "markdown",
   "id": "d3fb08d5",
   "metadata": {},
   "source": [
    "write a program to calculate the percentage of students in the subject of Math, science, socila, \n",
    "english and hindi. ask the user to givethe input"
   ]
  },
  {
   "cell_type": "code",
   "execution_count": 3,
   "id": "1fe4e5ce",
   "metadata": {},
   "outputs": [
    {
     "name": "stdout",
     "output_type": "stream",
     "text": [
      "enter the name of a studentSana Jaan\n",
      "enter the marks stored in english 78\n",
      "enter the marks scored in hindi 65\n",
      "enter the marks scored in maths 89\n",
      " enter the marks of science 56\n",
      "enter the marks scored in social 45\n",
      "percent scored by the student Sana Jaan is 66.60000000000001 %\n"
     ]
    }
   ],
   "source": [
    "x  = input(\"enter the name of a student\")\n",
    "a = input(\"enter the marks stored in english \")\n",
    "b = input(\"enter the marks scored in hindi \")\n",
    "c = input(\"enter the marks scored in maths \")\n",
    "d = input(\" enter the marks of science \")\n",
    "e = input(\"enter the marks scored in social \")\n",
    "\n",
    "p = int(a)+int(b)+int(c)+int(d)+int(e)\n",
    "\n",
    "n = (p/500)*100\n",
    "\n",
    "print(\"percent scored by the student\", x, \"is\", n,\"%\")"
   ]
  },
  {
   "cell_type": "code",
   "execution_count": 4,
   "id": "ba7782c0",
   "metadata": {},
   "outputs": [
    {
     "name": "stdout",
     "output_type": "stream",
     "text": [
      "10 is less than 15\n",
      "I am outside the if condition\n"
     ]
    }
   ],
   "source": [
    "i = 10\n",
    "\n",
    "if (i > 1):\n",
    "    print(\"10 is less than 15\")\n",
    "    \n",
    "print(\"I am outside the if condition\")"
   ]
  },
  {
   "cell_type": "code",
   "execution_count": 13,
   "id": "4944ea68",
   "metadata": {},
   "outputs": [
    {
     "name": "stdout",
     "output_type": "stream",
     "text": [
      " 20 is less than 10 \n"
     ]
    }
   ],
   "source": [
    "x = 10\n",
    "\n",
    "if(x > 2):\n",
    "    print(\" 20 is less than 10 \")"
   ]
  },
  {
   "cell_type": "markdown",
   "id": "ed13c0a8",
   "metadata": {},
   "source": [
    "One More Example"
   ]
  },
  {
   "cell_type": "markdown",
   "id": "3e0bfa1d",
   "metadata": {},
   "source": [
    "Assign grade to A, b, C based on marks obyained by students\n",
    "\n",
    "if % in above 90% assign grade A, If 80% Grade B, If 70% Grade c\n"
   ]
  },
  {
   "cell_type": "code",
   "execution_count": 15,
   "id": "fa64d84a",
   "metadata": {},
   "outputs": [
    {
     "name": "stdout",
     "output_type": "stream",
     "text": [
      " Enter The marks70\n",
      "Grade C\n"
     ]
    }
   ],
   "source": [
    " a=int(input(\" Enter The marks\"))\n",
    "\n",
    "if a > 90:\n",
    "    print(\"A Grade\")\n",
    "if a >=80 and a<90:\n",
    "    Print(\"B Grade\")\n",
    "if a>=70 and a<80:\n",
    "    print(\"Grade C\")"
   ]
  },
  {
   "cell_type": "code",
   "execution_count": null,
   "id": "8fdd8e1e",
   "metadata": {},
   "outputs": [],
   "source": []
  },
  {
   "cell_type": "markdown",
   "id": "a71d5c22",
   "metadata": {},
   "source": [
    "## if else statement"
   ]
  },
  {
   "cell_type": "markdown",
   "id": "c2104118",
   "metadata": {},
   "source": [
    "Write a program to display \"Hello\" if the number enterd by the user is a multiple of 5 otherwise print Bye"
   ]
  },
  {
   "cell_type": "code",
   "execution_count": 16,
   "id": "c3064112",
   "metadata": {},
   "outputs": [
    {
     "name": "stdout",
     "output_type": "stream",
     "text": [
      "Enter the number25\n",
      "Hello\n"
     ]
    }
   ],
   "source": [
    "a = int(input(\"Enter the number\"))\n",
    "if a % 5 == 0:\n",
    "    print(\"Hello\")\n",
    "else:\n",
    "    print(\"Bye\")"
   ]
  },
  {
   "cell_type": "markdown",
   "id": "c97931cc",
   "metadata": {},
   "source": [
    "Write a program to check a person is eligible for voting or not"
   ]
  },
  {
   "cell_type": "code",
   "execution_count": 18,
   "id": "081ee776",
   "metadata": {},
   "outputs": [
    {
     "name": "stdout",
     "output_type": "stream",
     "text": [
      "Enter the age of citizen = 20\n",
      "You are eligible for voting.\n"
     ]
    }
   ],
   "source": [
    "Age = int(input(\"Enter the age of citizen = \"))\n",
    "\n",
    "if Age > 18:\n",
    "    print(\"You are eligible for voting.\")\n",
    "else:\n",
    "    print(\"you are not eligible for voting\")"
   ]
  },
  {
   "cell_type": "markdown",
   "id": "768f80cf",
   "metadata": {},
   "source": [
    "Write a program to check weher the number entered bya user is positive or negative"
   ]
  },
  {
   "cell_type": "code",
   "execution_count": 27,
   "id": "d3ab23d8",
   "metadata": {},
   "outputs": [
    {
     "name": "stdout",
     "output_type": "stream",
     "text": [
      "Enter the no. 1\n",
      "the no is positive\n"
     ]
    }
   ],
   "source": [
    " a = int(input(\"Enter the no. \"))\n",
    "if a>0:\n",
    "    print(\"the no is positive\")\n",
    "else:\n",
    "    print(\"the no is negative\")"
   ]
  },
  {
   "cell_type": "markdown",
   "id": "bcdc2571",
   "metadata": {},
   "source": [
    "### if-elif-else statement"
   ]
  },
  {
   "cell_type": "markdown",
   "id": "a16d54a5",
   "metadata": {},
   "source": [
    "Ask any city from the user and display the moment of the city\n",
    "Delhi - Red fort\n",
    "Agra - Taj mahal\n",
    "Jaipur - hawa mAhal\n",
    "Orissa - Konark Temple\n",
    "Hydrabad - Charminar"
   ]
  },
  {
   "cell_type": "code",
   "execution_count": 30,
   "id": "2433ea84",
   "metadata": {},
   "outputs": [
    {
     "name": "stdout",
     "output_type": "stream",
     "text": [
      "Enter the city agra\n",
      "No record found\n"
     ]
    }
   ],
   "source": [
    "a = input(\"Enter the city \")\n",
    "\n",
    "if a == \"Delhi\":\n",
    "    print(\"Red fort\")\n",
    "elif a == \"Agra\":\n",
    "    print(\"Tajmahal\")\n",
    "elif a == \"Jaipur\":\n",
    "    print(\"Hawa Mahal\")\n",
    "elif a == \"Orissa\":\n",
    "    print(\"Konark Temple\")\n",
    "elif a == \"Hydrabad\":\n",
    "    print(\"Charminar\")\n",
    "\n",
    "else:\n",
    "        print(\"No record found\")"
   ]
  },
  {
   "cell_type": "code",
   "execution_count": null,
   "id": "eaf6d70f",
   "metadata": {},
   "outputs": [],
   "source": []
  },
  {
   "cell_type": "markdown",
   "id": "b9f24003",
   "metadata": {},
   "source": [
    "### Ask the number the days from the user and calculate the charge of a library the following"
   ]
  },
  {
   "cell_type": "code",
   "execution_count": 34,
   "id": "eaf88b1a",
   "metadata": {},
   "outputs": [
    {
     "name": "stdout",
     "output_type": "stream",
     "text": [
      "Enter the number you want to keep the book2\n",
      "you need to pay 4 Rs\n"
     ]
    }
   ],
   "source": [
    "m = int(input(\"Enter the number you want to keep the book\"))\n",
    "\n",
    "if m <=5:\n",
    "    print(\"you need to pay\", m*2, \"Rs\")\n",
    "elif m>=6 and m <=10:\n",
    "    print(\"you need to pay, m*3\", \"Rs\")"
   ]
  },
  {
   "cell_type": "code",
   "execution_count": null,
   "id": "e91228cb",
   "metadata": {},
   "outputs": [],
   "source": []
  }
 ],
 "metadata": {
  "kernelspec": {
   "display_name": "Python 3 (ipykernel)",
   "language": "python",
   "name": "python3"
  },
  "language_info": {
   "codemirror_mode": {
    "name": "ipython",
    "version": 3
   },
   "file_extension": ".py",
   "mimetype": "text/x-python",
   "name": "python",
   "nbconvert_exporter": "python",
   "pygments_lexer": "ipython3",
   "version": "3.11.5"
  }
 },
 "nbformat": 4,
 "nbformat_minor": 5
}
