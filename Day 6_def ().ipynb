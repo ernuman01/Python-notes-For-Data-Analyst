{
 "cells": [
  {
   "cell_type": "markdown",
   "id": "e8fa5390",
   "metadata": {},
   "source": [
    "# user defined function"
   ]
  },
  {
   "cell_type": "markdown",
   "id": "3986f4ec",
   "metadata": {},
   "source": [
    "## creating & calling a user defined function"
   ]
  },
  {
   "cell_type": "code",
   "execution_count": 7,
   "id": "f6f3aac0",
   "metadata": {},
   "outputs": [
    {
     "name": "stdout",
     "output_type": "stream",
     "text": [
      "hello\n"
     ]
    }
   ],
   "source": [
    "def my_function():\n",
    "    print(\"hello\")\n",
    "my_function()"
   ]
  },
  {
   "cell_type": "code",
   "execution_count": 9,
   "id": "2ca7d5ea",
   "metadata": {},
   "outputs": [
    {
     "name": "stdout",
     "output_type": "stream",
     "text": [
      "aaj jaane ki zid na karo\n"
     ]
    }
   ],
   "source": [
    "def my_function():\n",
    "    print(\"aaj jaane ki zid na karo\")\n",
    "my_function()"
   ]
  },
  {
   "cell_type": "markdown",
   "id": "55483f38",
   "metadata": {},
   "source": [
    "creating the result of a student"
   ]
  },
  {
   "cell_type": "code",
   "execution_count": 11,
   "id": "280af3b6",
   "metadata": {},
   "outputs": [],
   "source": [
    "def contact():\n",
    "    print(\"contact details - \")\n",
    "    print(\"delhi public school\")\n",
    "    print(\"banglore, karnatka\")\n",
    "    print(\"7827816942\")\n",
    " \n",
    "   \n",
    "    for i in range(4):\n",
    "        a = input(\"Enter the name of a student\")\n",
    "        b = int(input(\"enter the marks of math\"))\n",
    "        c = int(input(\"\"))\n",
    "        d = int(input(\"enter the marks of social\"))\n",
    "        contact()"
   ]
  },
  {
   "cell_type": "code",
   "execution_count": null,
   "id": "35ffb3eb",
   "metadata": {},
   "outputs": [],
   "source": []
  },
  {
   "cell_type": "markdown",
   "id": "e5b1bcf1",
   "metadata": {},
   "source": [
    "# Arguments"
   ]
  },
  {
   "cell_type": "markdown",
   "id": "f3b66af7",
   "metadata": {},
   "source": [
    "information can be passed into functions as argumenta."
   ]
  },
  {
   "cell_type": "markdown",
   "id": "35bc9004",
   "metadata": {},
   "source": [
    "Arguments are specified after the function name, inside the parenthesis. You can add as many arguments as you want. Just separate them with a comma"
   ]
  },
  {
   "cell_type": "markdown",
   "id": "9a4d3c94",
   "metadata": {},
   "source": []
  },
  {
   "cell_type": "code",
   "execution_count": 12,
   "id": "6a91fb88",
   "metadata": {},
   "outputs": [],
   "source": [
    "def my_function(fname):\n",
    "    print(fname + \"sharma\")"
   ]
  },
  {
   "cell_type": "code",
   "execution_count": 14,
   "id": "4e12bdd7",
   "metadata": {},
   "outputs": [
    {
     "name": "stdout",
     "output_type": "stream",
     "text": [
      "pooja sharma\n",
      "priya sharma\n",
      "payal sharma\n"
     ]
    }
   ],
   "source": [
    "my_function(\"pooja \")\n",
    "my_function(\"priya \")\n",
    "my_function(\"payal \")"
   ]
  },
  {
   "cell_type": "markdown",
   "id": "baae0b16",
   "metadata": {},
   "source": [
    "# Number of Arguments"
   ]
  },
  {
   "cell_type": "code",
   "execution_count": 4,
   "id": "6d8e089a",
   "metadata": {},
   "outputs": [
    {
     "name": "stdout",
     "output_type": "stream",
     "text": [
      "swati Sharma\n"
     ]
    }
   ],
   "source": [
    "def my_function(fname, name):\n",
    "    print(fname +\" \" + name)\n",
    "    \n",
    "my_function(\"swati\", \"Sharma\")"
   ]
  },
  {
   "cell_type": "code",
   "execution_count": 5,
   "id": "08d3e908",
   "metadata": {},
   "outputs": [
    {
     "name": "stdout",
     "output_type": "stream",
     "text": [
      "Sana Jaan\n"
     ]
    }
   ],
   "source": [
    "my_function(\"Sana\", \"Jaan\")"
   ]
  },
  {
   "cell_type": "markdown",
   "id": "d37e6ab4",
   "metadata": {},
   "source": [
    "write a python function to check wether a number fails within a given range."
   ]
  },
  {
   "cell_type": "code",
   "execution_count": 19,
   "id": "d0843c16",
   "metadata": {},
   "outputs": [],
   "source": [
    "def test_range(n):\n",
    "    if n in range(3,9):\n",
    "        print(\" %s is in the range\" %str(n))\n",
    "    else :\n",
    "        print(\"The number is outside the given range.\")"
   ]
  },
  {
   "cell_type": "code",
   "execution_count": 20,
   "id": "7bc0f776",
   "metadata": {},
   "outputs": [
    {
     "name": "stdout",
     "output_type": "stream",
     "text": [
      " 5 is in the range\n"
     ]
    }
   ],
   "source": [
    "test_range(5)"
   ]
  },
  {
   "cell_type": "code",
   "execution_count": 21,
   "id": "92454453",
   "metadata": {},
   "outputs": [
    {
     "name": "stdout",
     "output_type": "stream",
     "text": [
      " 3 is in the range\n"
     ]
    }
   ],
   "source": [
    "test_range(3)"
   ]
  },
  {
   "cell_type": "code",
   "execution_count": 22,
   "id": "2772c36e",
   "metadata": {},
   "outputs": [
    {
     "name": "stdout",
     "output_type": "stream",
     "text": [
      " 8 is in the range\n"
     ]
    }
   ],
   "source": [
    "test_range(8)"
   ]
  },
  {
   "cell_type": "markdown",
   "id": "16ff62a9",
   "metadata": {},
   "source": [
    "# doc string"
   ]
  },
  {
   "cell_type": "code",
   "execution_count": 25,
   "id": "13e9040d",
   "metadata": {},
   "outputs": [],
   "source": [
    "def learn():\n",
    "    \"\"\"this functio does nothing except printing\"\"\"\n",
    "    print(\"HKaam ki parhai\")\n",
    "    print(\"python is a skill is kaam ki parhaayi\")"
   ]
  },
  {
   "cell_type": "raw",
   "id": "dcf69045",
   "metadata": {},
   "source": [
    "learn()"
   ]
  },
  {
   "cell_type": "code",
   "execution_count": null,
   "id": "bafa57c1",
   "metadata": {},
   "outputs": [],
   "source": [
    "\n"
   ]
  },
  {
   "cell_type": "markdown",
   "id": "f284e293",
   "metadata": {},
   "source": [
    "A simple python function to check weher x is even or odd"
   ]
  },
  {
   "cell_type": "code",
   "execution_count": 26,
   "id": "c80ba24a",
   "metadata": {},
   "outputs": [],
   "source": [
    "def evenodd(x):\n",
    "    if (x % 2 == 0):\n",
    "        print(\"even\")\n",
    "    else:\n",
    "        print(\"odd\")"
   ]
  },
  {
   "cell_type": "code",
   "execution_count": 27,
   "id": "9f1180bf",
   "metadata": {},
   "outputs": [
    {
     "name": "stdout",
     "output_type": "stream",
     "text": [
      "even\n"
     ]
    }
   ],
   "source": [
    "evenodd(2\n",
    "       )"
   ]
  },
  {
   "cell_type": "markdown",
   "id": "cb954b94",
   "metadata": {},
   "source": [
    "# Default arguments"
   ]
  },
  {
   "cell_type": "markdown",
   "id": "84ca5922",
   "metadata": {},
   "source": [
    "A default argument is a parameter that assumes a default value if a value is not provide in the function call for the argument.The following example illustrates default arguments."
   ]
  },
  {
   "cell_type": "code",
   "execution_count": 28,
   "id": "214262c6",
   "metadata": {},
   "outputs": [],
   "source": [
    "#python program to demonstrate \n",
    "# defaoult arguments\n",
    "\n",
    "def defFun(x, y = 50):\n",
    "    print(\"x: \", x)\n",
    "    print(\"y:\", y)"
   ]
  },
  {
   "cell_type": "code",
   "execution_count": 30,
   "id": "c972992f",
   "metadata": {},
   "outputs": [
    {
     "name": "stdout",
     "output_type": "stream",
     "text": [
      "x:  10\n",
      "y: 50\n"
     ]
    }
   ],
   "source": [
    "defFun(10)"
   ]
  },
  {
   "cell_type": "markdown",
   "id": "d55c262f",
   "metadata": {},
   "source": [
    "# write a program to calculate the electricity bill of 5 customers\n",
    "\n",
    "#if 500 unit = pay Rs 5 for each unit\n",
    "#if 700 unit = pay Rs 10 for each unit\n",
    "#if 1000 unit = pay Rs 15 for each unit\n",
    "#if more than 1000 unit = pay Rs 20 for each unit"
   ]
  },
  {
   "cell_type": "code",
   "execution_count": 32,
   "id": "f466039e",
   "metadata": {},
   "outputs": [],
   "source": [
    "def elec_bill(n):\n",
    "    if n <= 500:\n",
    "        print(\"your bill is Rs\", n*5)\n",
    "    elif n>500 and n<700:\n",
    "        print(\"your bill is Rs\", n*10)\n",
    "    elif n >700 and n<1000:\n",
    "            print(\"your bill is Rs\", n*15)\n",
    "    elif n>1000:\n",
    "        print(\"your bill is Rs\", n*20)\n",
    "\n"
   ]
  },
  {
   "cell_type": "code",
   "execution_count": 33,
   "id": "109ddb36",
   "metadata": {},
   "outputs": [],
   "source": [
    "def details_bill():\n",
    "    print(\"The last date of paying the bill is 20 April\")\n",
    "    print(\"After deadline u need tp pay penalise of 1000\")\n",
    "    print(\"pay your bill soon\")"
   ]
  },
  {
   "cell_type": "code",
   "execution_count": null,
   "id": "3268a531",
   "metadata": {},
   "outputs": [
    {
     "name": "stdout",
     "output_type": "stream",
     "text": [
      "Enter the name of customerSana Jaan\n",
      "Enter the units of electricity consumed500\n",
      "your bill is Rs 2500\n",
      "\n",
      "The last date of paying the bill is 20 April\n",
      "After deadline u need tp pay penalise of 1000\n",
      "pay your bill soon\n",
      "Enter the name of customersaajan\n",
      "Enter the units of electricity consumed100\n",
      "your bill is Rs 500\n",
      "\n",
      "The last date of paying the bill is 20 April\n",
      "After deadline u need tp pay penalise of 1000\n",
      "pay your bill soon\n"
     ]
    }
   ],
   "source": [
    "for i in range(3):\n",
    "    a = input(\"Enter the name of customer\")\n",
    "    n = int(input(\"Enter the units of electricity consumed\"))\n",
    "    elec_bill(n)\n",
    "    print()\n",
    "    details_bill()"
   ]
  },
  {
   "cell_type": "code",
   "execution_count": null,
   "id": "8deba08b",
   "metadata": {},
   "outputs": [],
   "source": []
  }
 ],
 "metadata": {
  "kernelspec": {
   "display_name": "Python 3 (ipykernel)",
   "language": "python",
   "name": "python3"
  },
  "language_info": {
   "codemirror_mode": {
    "name": "ipython",
    "version": 3
   },
   "file_extension": ".py",
   "mimetype": "text/x-python",
   "name": "python",
   "nbconvert_exporter": "python",
   "pygments_lexer": "ipython3",
   "version": "3.11.5"
  }
 },
 "nbformat": 4,
 "nbformat_minor": 5
}
