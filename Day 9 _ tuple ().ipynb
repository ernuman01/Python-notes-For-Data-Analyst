{
 "cells": [
  {
   "cell_type": "markdown",
   "id": "f8fd35c2",
   "metadata": {},
   "source": [
    "# tuple() in Python"
   ]
  },
  {
   "cell_type": "markdown",
   "id": "ecc216a7",
   "metadata": {},
   "source": [
    "### Creating a tuple()"
   ]
  },
  {
   "cell_type": "code",
   "execution_count": 3,
   "id": "293076fa",
   "metadata": {},
   "outputs": [
    {
     "name": "stdout",
     "output_type": "stream",
     "text": [
      "(1, 2, 3, 4, 5)\n",
      "<class 'tuple'>\n"
     ]
    }
   ],
   "source": [
    "my_tuple = (1,2,3,4,5)\n",
    "print(my_tuple)\n",
    "print(type(my_tuple))"
   ]
  },
  {
   "cell_type": "markdown",
   "id": "a019dfd9",
   "metadata": {},
   "source": [
    "## tuple() with mixed data types"
   ]
  },
  {
   "cell_type": "code",
   "execution_count": 4,
   "id": "631e1244",
   "metadata": {},
   "outputs": [
    {
     "name": "stdout",
     "output_type": "stream",
     "text": [
      "(1, 'hello', 30.5)\n",
      "<class 'tuple'>\n"
     ]
    }
   ],
   "source": [
    "z = (1, \"hello\", 30.5)\n",
    "print(z)\n",
    "print(type(z))"
   ]
  },
  {
   "cell_type": "markdown",
   "id": "8438b136",
   "metadata": {},
   "source": [
    "# Empty tuple()"
   ]
  },
  {
   "cell_type": "code",
   "execution_count": 5,
   "id": "09c8412d",
   "metadata": {},
   "outputs": [
    {
     "name": "stdout",
     "output_type": "stream",
     "text": [
      "()\n",
      "<class 'tuple'>\n"
     ]
    }
   ],
   "source": [
    "a = ()\n",
    "print(a)\n",
    "print(type(a))"
   ]
  },
  {
   "cell_type": "markdown",
   "id": "7b76623f",
   "metadata": {},
   "source": [
    "# nested tuple()"
   ]
  },
  {
   "cell_type": "code",
   "execution_count": 6,
   "id": "81d0453a",
   "metadata": {},
   "outputs": [
    {
     "name": "stdout",
     "output_type": "stream",
     "text": [
      "('mouse', [2, 4, 6], (1, 2, 3))\n",
      "<class 'tuple'>\n"
     ]
    }
   ],
   "source": [
    "my_tup = (\"mouse\", [2,4,6], (1,2,3))\n",
    "print(my_tup)\n",
    "print(type(my_tup))"
   ]
  },
  {
   "cell_type": "markdown",
   "id": "37368bd7",
   "metadata": {},
   "source": [
    "# Create a python tuple with one element"
   ]
  },
  {
   "cell_type": "code",
   "execution_count": 7,
   "id": "436b52fb",
   "metadata": {},
   "outputs": [
    {
     "name": "stdout",
     "output_type": "stream",
     "text": [
      "Hello\n",
      "<class 'str'>\n"
     ]
    }
   ],
   "source": [
    "var1 = (\"Hello\")\n",
    "print(var1)\n",
    "print(type(var1))"
   ]
  },
  {
   "cell_type": "code",
   "execution_count": 12,
   "id": "b6e9c2a8",
   "metadata": {},
   "outputs": [
    {
     "name": "stdout",
     "output_type": "stream",
     "text": [
      "('Hello',)\n",
      "<class 'tuple'>\n"
     ]
    }
   ],
   "source": [
    "var2 = (\"Hello\",)\n",
    "print(var2)\n",
    "print(type(var2))"
   ]
  },
  {
   "cell_type": "markdown",
   "id": "8d6b2111",
   "metadata": {},
   "source": [
    "# the tuple() constructer\n"
   ]
  },
  {
   "cell_type": "code",
   "execution_count": 1,
   "id": "a43efb04",
   "metadata": {},
   "outputs": [
    {
     "name": "stdout",
     "output_type": "stream",
     "text": [
      "('a', 'b', 'c')\n",
      "<class 'tuple'>\n"
     ]
    }
   ],
   "source": [
    "this_tuple = tuple((\"a\",\"b\",\"c\"))\n",
    "print(this_tuple)\n",
    "print(type(this_tuple))"
   ]
  },
  {
   "cell_type": "markdown",
   "id": "bcc7ea30",
   "metadata": {},
   "source": [
    "# Indexing"
   ]
  },
  {
   "cell_type": "code",
   "execution_count": 2,
   "id": "876c0f27",
   "metadata": {},
   "outputs": [
    {
     "name": "stdout",
     "output_type": "stream",
     "text": [
      "100\n",
      "200\n",
      "400\n"
     ]
    }
   ],
   "source": [
    "a = (100,200,300,400,500)\n",
    "\n",
    "print(a[0])\n",
    "print(a[1])\n",
    "print(a[3])"
   ]
  },
  {
   "cell_type": "code",
   "execution_count": 6,
   "id": "eeb69c2c",
   "metadata": {},
   "outputs": [
    {
     "name": "stdout",
     "output_type": "stream",
     "text": [
      "jaan\n",
      "10\n",
      "10.5\n",
      "(10+20j)\n"
     ]
    }
   ],
   "source": [
    "b = (\"sana\", \"jaan\", 10,20,10.5, 20.5, 5+6j,10+20j)\n",
    "\n",
    "print(b[1])\n",
    "print(b[2])\n",
    "print(b[4])\n",
    "print(b[7])"
   ]
  },
  {
   "cell_type": "code",
   "execution_count": 7,
   "id": "1760fd37",
   "metadata": {},
   "outputs": [
    {
     "name": "stdout",
     "output_type": "stream",
     "text": [
      "50\n",
      "40\n",
      "30\n",
      "20\n"
     ]
    }
   ],
   "source": [
    "x = (10,20,30,40,50)\n",
    "\n",
    "print(x[-1])\n",
    "print(x[-2])\n",
    "print(x[-3])\n",
    "print(x[-4])"
   ]
  },
  {
   "cell_type": "markdown",
   "id": "37e2ff4b",
   "metadata": {},
   "source": [
    "# Slicing"
   ]
  },
  {
   "cell_type": "code",
   "execution_count": 9,
   "id": "72fbfb64",
   "metadata": {},
   "outputs": [
    {
     "name": "stdout",
     "output_type": "stream",
     "text": [
      "10\n",
      "(10, 20, 30, 40, 50)\n",
      "(20, 30, 40, 50)\n",
      "(10, 20, 30, 40, 50, 60, 70, 80, 90, 100)\n",
      "(10, 20, 30, 40, 50, 60, 70, 80, 90, 100)\n"
     ]
    }
   ],
   "source": [
    "z = (10,20,30,40,50,60,70,80,90,100)\n",
    "print(len(z))\n",
    "print(z[0:5])\n",
    "print(z[1:5])\n",
    "print(z[:10])\n"
   ]
  },
  {
   "cell_type": "code",
   "execution_count": 11,
   "id": "b4fff8e2",
   "metadata": {},
   "outputs": [
    {
     "name": "stdout",
     "output_type": "stream",
     "text": [
      "10\n",
      "(10, 20, 30, 40, 50, 60, 70, 80, 90, 100)\n"
     ]
    }
   ],
   "source": [
    "z = (10,20,30,40,50,60,70,80,90,100)\n",
    "print(len(z))\n",
    "\n",
    "print(z[:])"
   ]
  },
  {
   "cell_type": "code",
   "execution_count": 12,
   "id": "1a3eae3b",
   "metadata": {},
   "outputs": [
    {
     "name": "stdout",
     "output_type": "stream",
     "text": [
      "(10, 30, 50)\n",
      "(10, 30, 50, 70, 90)\n"
     ]
    }
   ],
   "source": [
    "z = (10,20,30,40,50,60,70,80,90,100)\n",
    "print(z[0:5:2])\n",
    "print(z[::2])"
   ]
  },
  {
   "cell_type": "markdown",
   "id": "9a898361",
   "metadata": {},
   "source": [
    "# reversing of tuple()"
   ]
  },
  {
   "cell_type": "code",
   "execution_count": 15,
   "id": "dfe1def4",
   "metadata": {},
   "outputs": [
    {
     "name": "stdout",
     "output_type": "stream",
     "text": [
      "10\n",
      "(20, 18, 16, 14, 12, 10, 8, 6, 4, 2)\n"
     ]
    }
   ],
   "source": [
    "a = (2,4,6,8,10,12,14,16,18,20)\n",
    "print(len(a))\n",
    "print(a[::-1])    # to rverse take a double colon"
   ]
  },
  {
   "cell_type": "code",
   "execution_count": 17,
   "id": "b68c2745",
   "metadata": {},
   "outputs": [
    {
     "name": "stdout",
     "output_type": "stream",
     "text": [
      "(2, 4, 6, 8, 10, 12, 14, 16, 18, 20)\n",
      "(8, 10, 12, 14, 16, 18, 20)\n",
      "(2, 4, 6, 8)\n",
      "()\n",
      "(2, 6, 10, 14, 18)\n"
     ]
    }
   ],
   "source": [
    "a = (2,4,6,8,10,12,14,16,18,20)\n",
    "\n",
    "print(a[::])\n",
    "print(a[3:])\n",
    "print(a[:4])\n",
    "print(a[-2:-5])\n",
    "print(a[::2])"
   ]
  },
  {
   "cell_type": "markdown",
   "id": "a94c801a",
   "metadata": {},
   "source": [
    "# Duplicating are allowed in tuple()"
   ]
  },
  {
   "cell_type": "code",
   "execution_count": 19,
   "id": "a8c99d0c",
   "metadata": {},
   "outputs": [
    {
     "name": "stdout",
     "output_type": "stream",
     "text": [
      "(10, 20, 30, 40, 50, 60, 70, 80, 90, 100, 200, 300, 400, 500)\n",
      "<class 'tuple'>\n"
     ]
    }
   ],
   "source": [
    "a = (10, 20, 30, 40, 50, 60, 70, 80, 90, 100, 200, 300, 400, 500)\n",
    "print(a)\n",
    "print(type(a))"
   ]
  },
  {
   "cell_type": "markdown",
   "id": "57c79e69",
   "metadata": {},
   "source": [
    "# once the tuple is created, you can not change its values. Tuples are unchangable and also called immutable"
   ]
  },
  {
   "cell_type": "markdown",
   "id": "fcea5aac",
   "metadata": {},
   "source": [
    "# Convert the tuple into list"
   ]
  },
  {
   "cell_type": "code",
   "execution_count": 22,
   "id": "7d140079",
   "metadata": {},
   "outputs": [
    {
     "name": "stdout",
     "output_type": "stream",
     "text": [
      "('data', 'science', 'python')\n"
     ]
    }
   ],
   "source": [
    "x = (\"data\", \"analyst\", \"python\")\n",
    "\n",
    "y = list(x)\n",
    "y[1] = \"science\"\n",
    "\n",
    "x = tuple(y)\n",
    "print(x)"
   ]
  },
  {
   "cell_type": "markdown",
   "id": "7f3e2236",
   "metadata": {},
   "source": [
    "# Adding elements to tuples"
   ]
  },
  {
   "cell_type": "markdown",
   "id": "130151d2",
   "metadata": {},
   "source": [
    "### Since tuples are immutable they do not have built-in function append() method, but by other ways added"
   ]
  },
  {
   "cell_type": "code",
   "execution_count": 23,
   "id": "f7327981",
   "metadata": {},
   "outputs": [
    {
     "name": "stdout",
     "output_type": "stream",
     "text": [
      "(25, 30, 35, 40, 45, 'orange')\n"
     ]
    }
   ],
   "source": [
    "a = (25,30,35,40,45)\n",
    "y = list(a)\n",
    "y.append(\"orange\")\n",
    "a  = tuple(y)\n",
    "print(a)"
   ]
  },
  {
   "cell_type": "markdown",
   "id": "e19a1311",
   "metadata": {},
   "source": [
    "# Adding tuple( ) to a tuple()"
   ]
  },
  {
   "cell_type": "code",
   "execution_count": 31,
   "id": "e6a7805d",
   "metadata": {},
   "outputs": [
    {
     "name": "stdout",
     "output_type": "stream",
     "text": [
      "('python', 'data', 'work', 'code')\n"
     ]
    }
   ],
   "source": [
    "p = (\"python\", \"data\", \"work\")\n",
    "q = (\"code\",)\n",
    "\n",
    "p + = q\n",
    "\n",
    "print(p)"
   ]
  },
  {
   "cell_type": "code",
   "execution_count": 37,
   "id": "47bbc157",
   "metadata": {},
   "outputs": [
    {
     "name": "stdout",
     "output_type": "stream",
     "text": [
      "sana jaan\n"
     ]
    }
   ],
   "source": [
    "x = (\"sana\")\n",
    "y = (\" jaan\")\n",
    "\n",
    "x+=y\n",
    "print(x)"
   ]
  },
  {
   "cell_type": "markdown",
   "id": "df057fca",
   "metadata": {},
   "source": [
    "# Remove elements from tuples()"
   ]
  },
  {
   "cell_type": "markdown",
   "id": "d2730266",
   "metadata": {},
   "source": [
    "# tuples are unchangable, So you can not remove items from it, \n",
    "but you can use the same work sround as we used for changing and adding tuples item:"
   ]
  },
  {
   "cell_type": "code",
   "execution_count": 43,
   "id": "17eb8634",
   "metadata": {},
   "outputs": [
    {
     "ename": "TypeError",
     "evalue": "'tuple' object is not callable",
     "output_type": "error",
     "traceback": [
      "\u001b[1;31m---------------------------------------------------------------------------\u001b[0m",
      "\u001b[1;31mTypeError\u001b[0m                                 Traceback (most recent call last)",
      "Cell \u001b[1;32mIn[43], line 5\u001b[0m\n\u001b[0;32m      2\u001b[0m y \u001b[38;5;241m=\u001b[39m \u001b[38;5;28mlist\u001b[39m(x)\n\u001b[0;32m      4\u001b[0m y\u001b[38;5;241m.\u001b[39mremove(\u001b[38;5;124m\"\u001b[39m\u001b[38;5;124mapples\u001b[39m\u001b[38;5;124m\"\u001b[39m)\n\u001b[1;32m----> 5\u001b[0m x \u001b[38;5;241m=\u001b[39m \u001b[38;5;28mtuple\u001b[39m(y)\n\u001b[0;32m      7\u001b[0m \u001b[38;5;28mprint\u001b[39m(x)\n",
      "\u001b[1;31mTypeError\u001b[0m: 'tuple' object is not callable"
     ]
    }
   ],
   "source": [
    "x = (\"apples\",\"banana\", \"cherry\")\n",
    "y = list(x)\n",
    "\n",
    "y.remove(\"apples\")\n",
    "x = tuple(y)\n",
    "\n",
    "print(x)"
   ]
  },
  {
   "cell_type": "code",
   "execution_count": 42,
   "id": "82cf5f32",
   "metadata": {},
   "outputs": [
    {
     "ename": "TypeError",
     "evalue": "'tuple' object is not callable",
     "output_type": "error",
     "traceback": [
      "\u001b[1;31m---------------------------------------------------------------------------\u001b[0m",
      "\u001b[1;31mTypeError\u001b[0m                                 Traceback (most recent call last)",
      "Cell \u001b[1;32mIn[42], line 7\u001b[0m\n\u001b[0;32m      3\u001b[0m y \u001b[38;5;241m=\u001b[39m \u001b[38;5;28mlist\u001b[39m(x)\n\u001b[0;32m      5\u001b[0m y\u001b[38;5;241m.\u001b[39mremove(\u001b[38;5;241m10\u001b[39m)\n\u001b[1;32m----> 7\u001b[0m x \u001b[38;5;241m=\u001b[39m \u001b[38;5;28mtuple\u001b[39m(y)\n\u001b[0;32m      8\u001b[0m \u001b[38;5;28mprint\u001b[39m(x)\n",
      "\u001b[1;31mTypeError\u001b[0m: 'tuple' object is not callable"
     ]
    }
   ],
   "source": [
    "x = (2,4,6,8,10)\n",
    "\n",
    "y = list(x)\n",
    "\n",
    "y.remove(10)\n",
    "\n",
    "x = tuple(y)\n",
    "print(x)"
   ]
  },
  {
   "cell_type": "markdown",
   "id": "0acc5dc7",
   "metadata": {},
   "source": [
    "# del()  function can delete tuple completely:\n"
   ]
  },
  {
   "cell_type": "code",
   "execution_count": 48,
   "id": "a7c534da",
   "metadata": {},
   "outputs": [
    {
     "ename": "NameError",
     "evalue": "name 'y' is not defined",
     "output_type": "error",
     "traceback": [
      "\u001b[1;31m---------------------------------------------------------------------------\u001b[0m",
      "\u001b[1;31mNameError\u001b[0m                                 Traceback (most recent call last)",
      "Cell \u001b[1;32mIn[48], line 5\u001b[0m\n\u001b[0;32m      1\u001b[0m y \u001b[38;5;241m=\u001b[39m (\u001b[38;5;124m\"\u001b[39m\u001b[38;5;124ma\u001b[39m\u001b[38;5;124m\"\u001b[39m,\u001b[38;5;124m\"\u001b[39m\u001b[38;5;124mb\u001b[39m\u001b[38;5;124m\"\u001b[39m,\u001b[38;5;124m\"\u001b[39m\u001b[38;5;124mc\u001b[39m\u001b[38;5;124m\"\u001b[39m, \u001b[38;5;241m25\u001b[39m,\u001b[38;5;241m30\u001b[39m,\u001b[38;5;241m2.5\u001b[39m)\n\u001b[0;32m      3\u001b[0m \u001b[38;5;28;01mdel\u001b[39;00m y\n\u001b[1;32m----> 5\u001b[0m \u001b[38;5;28mprint\u001b[39m(y)\n",
      "\u001b[1;31mNameError\u001b[0m: name 'y' is not defined"
     ]
    }
   ],
   "source": [
    "y = (\"a\",\"b\",\"c\", 25,30,2.5)\n",
    "\n",
    "del y\n",
    "\n",
    "print(y)"
   ]
  },
  {
   "cell_type": "markdown",
   "id": "15410069",
   "metadata": {},
   "source": [
    "# loop( ) through a tuple()\n",
    "\n",
    "\n"
   ]
  },
  {
   "cell_type": "code",
   "execution_count": 49,
   "id": "21434efa",
   "metadata": {},
   "outputs": [
    {
     "name": "stdout",
     "output_type": "stream",
     "text": [
      "a\n",
      "b\n",
      "c\n"
     ]
    }
   ],
   "source": [
    "thistuple = (\"a\",\"b\",\"c\")\n",
    "for x in thistuple:\n",
    "    print(x)"
   ]
  },
  {
   "cell_type": "code",
   "execution_count": 50,
   "id": "7c3c2334",
   "metadata": {},
   "outputs": [
    {
     "name": "stdout",
     "output_type": "stream",
     "text": [
      "apple\n",
      "banana\n",
      "cherry\n"
     ]
    }
   ],
   "source": [
    "x  = (\"apple\",\"banana\", \"cherry\")\n",
    "\n",
    "i = 0\n",
    "while i<len(x):\n",
    "    print(x[i])\n",
    "    i = i+1\n"
   ]
  },
  {
   "cell_type": "markdown",
   "id": "718eccad",
   "metadata": {},
   "source": [
    "# Joining Of two tuple()"
   ]
  },
  {
   "cell_type": "code",
   "execution_count": 52,
   "id": "0ba70a00",
   "metadata": {},
   "outputs": [
    {
     "name": "stdout",
     "output_type": "stream",
     "text": [
      "('a', 'b', 'c', 1, 2, 3, 4, 5)\n"
     ]
    }
   ],
   "source": [
    "T1 = (\"a\",\"b\",\"c\")\n",
    "T2 = (1,2,3,4,5)\n",
    "\n",
    "T3 = T1+T2\n",
    "\n",
    "print(T3)"
   ]
  },
  {
   "cell_type": "markdown",
   "id": "b9e1af5a",
   "metadata": {},
   "source": [
    "### multiply among tuple()"
   ]
  },
  {
   "cell_type": "code",
   "execution_count": 53,
   "id": "259eb274",
   "metadata": {},
   "outputs": [
    {
     "name": "stdout",
     "output_type": "stream",
     "text": [
      "('apple', 'banana', 'cherry', 'apple', 'banana', 'cherry')\n"
     ]
    }
   ],
   "source": [
    "fruits = (\"apple\", \"banana\",\"cherry\")\n",
    "nuts = fruits*2\n",
    "\n",
    "print(nuts)"
   ]
  },
  {
   "cell_type": "markdown",
   "id": "e24d41d4",
   "metadata": {},
   "source": [
    "# Write a program to find repeated items in a tuple."
   ]
  },
  {
   "cell_type": "code",
   "execution_count": 54,
   "id": "6dc1f08b",
   "metadata": {},
   "outputs": [
    {
     "name": "stdout",
     "output_type": "stream",
     "text": [
      "(2, 4, 6, 8, 10, 12, 14)\n",
      "1\n"
     ]
    }
   ],
   "source": [
    "#create a tuple\n",
    "\n",
    "tuplex = 2,4,6,8,10,12,14\n",
    "\n",
    "print(tuplex)\n",
    "\n",
    "# returns the number of items it apperas in the tuples.\n",
    "\n",
    "count = tuplex.count(4)\n",
    "print(count)"
   ]
  },
  {
   "cell_type": "markdown",
   "id": "4f83401d",
   "metadata": {},
   "source": [
    "### Write a program to receive 5 numbers from the user and store it in a tuple"
   ]
  },
  {
   "cell_type": "code",
   "execution_count": null,
   "id": "a384dc29",
   "metadata": {},
   "outputs": [
    {
     "name": "stdout",
     "output_type": "stream",
     "text": [
      "Enter the number10\n",
      "(10,)\n",
      "Enter the number11\n",
      "(10, 11)\n",
      "Enter the number12\n",
      "(10, 11, 12)\n",
      "Enter the number13\n",
      "(10, 11, 12, 13)\n",
      "Enter the number14\n",
      "(10, 11, 12, 13, 14)\n",
      "Enter the number15\n",
      "(10, 11, 12, 13, 14, 15)\n",
      "Enter the number16\n",
      "(10, 11, 12, 13, 14, 15, 16)\n",
      "Enter the number132\n",
      "(10, 11, 12, 13, 14, 15, 16, 132)\n",
      "Enter the number1323\n",
      "(10, 11, 12, 13, 14, 15, 16, 132, 1323)\n",
      "Enter the number123132\n",
      "(10, 11, 12, 13, 14, 15, 16, 132, 1323, 123132)\n",
      "Enter the number13223\n",
      "(10, 11, 12, 13, 14, 15, 16, 132, 1323, 123132, 13223)\n",
      "Enter the number11231\n",
      "(10, 11, 12, 13, 14, 15, 16, 132, 1323, 123132, 13223, 11231)\n",
      "Enter the number11321\n",
      "(10, 11, 12, 13, 14, 15, 16, 132, 1323, 123132, 13223, 11231, 11321)\n",
      "Enter the number1321312\n",
      "(10, 11, 12, 13, 14, 15, 16, 132, 1323, 123132, 13223, 11231, 11321, 1321312)\n",
      "Enter the number131114541\n",
      "(10, 11, 12, 13, 14, 15, 16, 132, 1323, 123132, 13223, 11231, 11321, 1321312, 131114541)\n",
      "Enter the number5415444545454\n",
      "(10, 11, 12, 13, 14, 15, 16, 132, 1323, 123132, 13223, 11231, 11321, 1321312, 131114541, 5415444545454)\n"
     ]
    }
   ],
   "source": [
    "T = ()\n",
    "i = 0\n",
    "while i<=5:\n",
    "    num = int(input(\"Enter the number\"))\n",
    "    T = T +(num,)\n",
    "    i =- i+1\n",
    "    print(T)"
   ]
  },
  {
   "cell_type": "code",
   "execution_count": null,
   "id": "ab3e70ec",
   "metadata": {},
   "outputs": [],
   "source": []
  }
 ],
 "metadata": {
  "kernelspec": {
   "display_name": "Python 3 (ipykernel)",
   "language": "python",
   "name": "python3"
  },
  "language_info": {
   "codemirror_mode": {
    "name": "ipython",
    "version": 3
   },
   "file_extension": ".py",
   "mimetype": "text/x-python",
   "name": "python",
   "nbconvert_exporter": "python",
   "pygments_lexer": "ipython3",
   "version": "3.11.5"
  }
 },
 "nbformat": 4,
 "nbformat_minor": 5
}
