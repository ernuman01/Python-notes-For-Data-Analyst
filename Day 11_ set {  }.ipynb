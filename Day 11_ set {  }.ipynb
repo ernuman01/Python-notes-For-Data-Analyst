{
 "cells": [
  {
   "cell_type": "markdown",
   "id": "59f7d76c",
   "metadata": {},
   "source": [
    "# sets{} in Python"
   ]
  },
  {
   "cell_type": "markdown",
   "id": "1c310fa4",
   "metadata": {},
   "source": [
    "## Create a set()"
   ]
  },
  {
   "cell_type": "code",
   "execution_count": 1,
   "id": "2398a62c",
   "metadata": {},
   "outputs": [
    {
     "name": "stdout",
     "output_type": "stream",
     "text": [
      "{'balls', 'cat', 'animals'}\n",
      "<class 'set'>\n"
     ]
    }
   ],
   "source": [
    "a = {\"animals\",\"balls\", \"cat\"}\n",
    "print(a)\n",
    "print(type(a))"
   ]
  },
  {
   "cell_type": "markdown",
   "id": "532ddfb2",
   "metadata": {},
   "source": [
    "## ### set() items are unordered"
   ]
  },
  {
   "cell_type": "code",
   "execution_count": 3,
   "id": "cd7ac564",
   "metadata": {},
   "outputs": [
    {
     "ename": "TypeError",
     "evalue": "'set' object is not subscriptable",
     "output_type": "error",
     "traceback": [
      "\u001b[1;31m---------------------------------------------------------------------------\u001b[0m",
      "\u001b[1;31mTypeError\u001b[0m                                 Traceback (most recent call last)",
      "Cell \u001b[1;32mIn[3], line 2\u001b[0m\n\u001b[0;32m      1\u001b[0m a \u001b[38;5;241m=\u001b[39m {\u001b[38;5;124m\"\u001b[39m\u001b[38;5;124manimals\u001b[39m\u001b[38;5;124m\"\u001b[39m,\u001b[38;5;124m\"\u001b[39m\u001b[38;5;124mballs\u001b[39m\u001b[38;5;124m\"\u001b[39m, \u001b[38;5;124m\"\u001b[39m\u001b[38;5;124mcat\u001b[39m\u001b[38;5;124m\"\u001b[39m}\n\u001b[1;32m----> 2\u001b[0m \u001b[38;5;28mprint\u001b[39m(a[\u001b[38;5;241m0\u001b[39m])\n",
      "\u001b[1;31mTypeError\u001b[0m: 'set' object is not subscriptable"
     ]
    }
   ],
   "source": [
    "a = {\"animals\",\"balls\", \"cat\"}\n",
    "print(a[0])"
   ]
  },
  {
   "cell_type": "markdown",
   "id": "f090be32",
   "metadata": {},
   "source": [
    "# Duplicates not allowed in set()"
   ]
  },
  {
   "cell_type": "code",
   "execution_count": 6,
   "id": "be1316f7",
   "metadata": {},
   "outputs": [
    {
     "name": "stdout",
     "output_type": "stream",
     "text": [
      "{'balls', 'jahan', 'cat', 'jaan', 'ball', 'animals'}\n"
     ]
    }
   ],
   "source": [
    "a = {\"jaan\",\"jahan\",\"animals\",\"balls\", \"cat\",\"cat\", \"ball\", \"jaan\"}\n",
    "print(a)                                           #we can see here that it does print duplicates"
   ]
  },
  {
   "cell_type": "markdown",
   "id": "4a421c9f",
   "metadata": {},
   "source": [
    "## True and 1 is considered the same value"
   ]
  },
  {
   "cell_type": "code",
   "execution_count": 8,
   "id": "8426c62f",
   "metadata": {},
   "outputs": [
    {
     "name": "stdout",
     "output_type": "stream",
     "text": [
      "{True, 'jahan', 2, 'cat', 'jaan', 3, 4, 5, 'ball', 'animals', 'balls', 'run'}\n",
      "12\n"
     ]
    }
   ],
   "source": [
    "a = {\"jaan\",\"jahan\",\"animals\",\"balls\", \"cat\",\"cat\", \"ball\", \"jaan\", True, 1,\"run\", 1,2,3,4,5}\n",
    "print(a)\n",
    "\n",
    "print(len(a))"
   ]
  },
  {
   "cell_type": "markdown",
   "id": "1acc645a",
   "metadata": {},
   "source": [
    "# set( ) item - Data types"
   ]
  },
  {
   "cell_type": "code",
   "execution_count": 9,
   "id": "8ce6d95f",
   "metadata": {},
   "outputs": [
    {
     "name": "stdout",
     "output_type": "stream",
     "text": [
      "{1, 2, 3, 4, 5} {1.2, 2.3, 3.4, 4.6} {'a', 'd', 'c', 'b'} {False, True}\n"
     ]
    }
   ],
   "source": [
    "x1 = {1,2,3,4,5}\n",
    "x2  = {1.2,2.3,3.4,4.6}\n",
    "x3 = {\"a\",\"b\",\"c\",\"d\"}\n",
    "x4 = {True,False, True}\n",
    "\n",
    "print(x1,x2,x3,x4)"
   ]
  },
  {
   "cell_type": "code",
   "execution_count": 10,
   "id": "4d204a78",
   "metadata": {},
   "outputs": [
    {
     "ename": "TypeError",
     "evalue": "unhashable type: 'list'",
     "output_type": "error",
     "traceback": [
      "\u001b[1;31m---------------------------------------------------------------------------\u001b[0m",
      "\u001b[1;31mTypeError\u001b[0m                                 Traceback (most recent call last)",
      "Cell \u001b[1;32mIn[10], line 1\u001b[0m\n\u001b[1;32m----> 1\u001b[0m x5 \u001b[38;5;241m=\u001b[39m {[\u001b[38;5;241m1\u001b[39m,\u001b[38;5;241m2\u001b[39m,\u001b[38;5;241m3\u001b[39m,\u001b[38;5;241m4\u001b[39m,\u001b[38;5;241m5\u001b[39m]}\n\u001b[0;32m      2\u001b[0m \u001b[38;5;28mprint\u001b[39m(x5)\n",
      "\u001b[1;31mTypeError\u001b[0m: unhashable type: 'list'"
     ]
    }
   ],
   "source": [
    "x5 = {[1,2,3,4,5]}\n",
    "print(x5)"
   ]
  },
  {
   "cell_type": "markdown",
   "id": "4566b797",
   "metadata": {},
   "source": [
    "### List are mutable and hence unhashable object in python. Where as , sets in python are \n",
    "immutable and does not allow unhashable objects\n",
    "therefore, python does not allow a set to store a list. we can not add a list to a set"
   ]
  },
  {
   "cell_type": "code",
   "execution_count": 11,
   "id": "3ba6e390",
   "metadata": {},
   "outputs": [
    {
     "name": "stdout",
     "output_type": "stream",
     "text": [
      "{(1, 2, 3, 4, 5)}\n"
     ]
    }
   ],
   "source": [
    "x5 = {(1,2,3,4,5)}\n",
    "print(x5)"
   ]
  },
  {
   "cell_type": "code",
   "execution_count": 12,
   "id": "b22502a0",
   "metadata": {},
   "outputs": [
    {
     "ename": "TypeError",
     "evalue": "unhashable type: 'dict'",
     "output_type": "error",
     "traceback": [
      "\u001b[1;31m---------------------------------------------------------------------------\u001b[0m",
      "\u001b[1;31mTypeError\u001b[0m                                 Traceback (most recent call last)",
      "Cell \u001b[1;32mIn[12], line 1\u001b[0m\n\u001b[1;32m----> 1\u001b[0m x6 \u001b[38;5;241m=\u001b[39m {{\u001b[38;5;124m\"\u001b[39m\u001b[38;5;124ma\u001b[39m\u001b[38;5;124m\"\u001b[39m:\u001b[38;5;241m1\u001b[39m, \u001b[38;5;124m\"\u001b[39m\u001b[38;5;124mb\u001b[39m\u001b[38;5;124m\"\u001b[39m:\u001b[38;5;241m2\u001b[39m}}\n\u001b[0;32m      2\u001b[0m \u001b[38;5;28mprint\u001b[39m(x6)\n",
      "\u001b[1;31mTypeError\u001b[0m: unhashable type: 'dict'"
     ]
    }
   ],
   "source": [
    "x6 = {{\"a\":1, \"b\":2}}\n",
    "print(x6)"
   ]
  },
  {
   "cell_type": "markdown",
   "id": "62b510e5",
   "metadata": {},
   "source": [
    "# nested is not a property of a set. "
   ]
  },
  {
   "cell_type": "code",
   "execution_count": 13,
   "id": "deb08696",
   "metadata": {},
   "outputs": [
    {
     "ename": "TypeError",
     "evalue": "unhashable type: 'set'",
     "output_type": "error",
     "traceback": [
      "\u001b[1;31m---------------------------------------------------------------------------\u001b[0m",
      "\u001b[1;31mTypeError\u001b[0m                                 Traceback (most recent call last)",
      "Cell \u001b[1;32mIn[13], line 1\u001b[0m\n\u001b[1;32m----> 1\u001b[0m a \u001b[38;5;241m=\u001b[39m {{\u001b[38;5;241m1\u001b[39m,\u001b[38;5;241m2\u001b[39m,\u001b[38;5;241m3\u001b[39m},{\u001b[38;5;241m2\u001b[39m,\u001b[38;5;241m3\u001b[39m,\u001b[38;5;241m4\u001b[39m,\u001b[38;5;241m5\u001b[39m}}\n\u001b[0;32m      2\u001b[0m \u001b[38;5;28mprint\u001b[39m(a)\n\u001b[0;32m      3\u001b[0m \u001b[38;5;28mprint\u001b[39m(\u001b[38;5;28mtype\u001b[39m(a))\n",
      "\u001b[1;31mTypeError\u001b[0m: unhashable type: 'set'"
     ]
    }
   ],
   "source": [
    "a = {{1,2,3},{2,3,4,5}}\n",
    "print(a)\n",
    "print(type(a))"
   ]
  },
  {
   "cell_type": "markdown",
   "id": "0830282c",
   "metadata": {},
   "source": [
    "### the se( ) constructor"
   ]
  },
  {
   "cell_type": "code",
   "execution_count": 17,
   "id": "7bdbdabe",
   "metadata": {},
   "outputs": [
    {
     "name": "stdout",
     "output_type": "stream",
     "text": [
      "{'beta', 'alpha', 'gamma'}\n",
      "<class 'set'>\n"
     ]
    }
   ],
   "source": [
    "set1 = set((\"alpha\",\"beta\",\"gamma\"))\n",
    "print(set1)\n",
    "print(type(set1))"
   ]
  },
  {
   "cell_type": "markdown",
   "id": "2f03554a",
   "metadata": {},
   "source": [
    "# Create empty set()"
   ]
  },
  {
   "cell_type": "code",
   "execution_count": 18,
   "id": "625b8276",
   "metadata": {},
   "outputs": [
    {
     "name": "stdout",
     "output_type": "stream",
     "text": [
      "{}\n",
      "<class 'dict'>\n"
     ]
    }
   ],
   "source": [
    "a = {}\n",
    "print(a)\n",
    "print(type(a))"
   ]
  },
  {
   "cell_type": "code",
   "execution_count": 19,
   "id": "342ced9b",
   "metadata": {},
   "outputs": [
    {
     "name": "stdout",
     "output_type": "stream",
     "text": [
      "<class 'set'>\n"
     ]
    }
   ],
   "source": [
    "empty = set()\n",
    "print(type(empty))"
   ]
  },
  {
   "cell_type": "markdown",
   "id": "3247a3b6",
   "metadata": {},
   "source": [
    "# Access Items"
   ]
  },
  {
   "cell_type": "markdown",
   "id": "ee8d939c",
   "metadata": {},
   "source": [
    "you can not access items in a set by referring to an index or a key."
   ]
  },
  {
   "cell_type": "markdown",
   "id": "e2f55c87",
   "metadata": {},
   "source": [
    "But you can loop through  the set items  using a for loop, or asked if a specified value is present in a set, by\n",
    "using the \"in\"keyword"
   ]
  },
  {
   "cell_type": "code",
   "execution_count": 20,
   "id": "9271577d",
   "metadata": {},
   "outputs": [
    {
     "name": "stdout",
     "output_type": "stream",
     "text": [
      "a\n",
      "d\n",
      "c\n",
      "b\n"
     ]
    }
   ],
   "source": [
    "a = {\"a\", \"b\",\"c\", \"d\"}\n",
    "\n",
    "for x in a :\n",
    "    print(x)"
   ]
  },
  {
   "cell_type": "markdown",
   "id": "f457c560",
   "metadata": {},
   "source": [
    "Check if \"item\" is present in the set:"
   ]
  },
  {
   "cell_type": "code",
   "execution_count": 22,
   "id": "8d034098",
   "metadata": {},
   "outputs": [
    {
     "name": "stdout",
     "output_type": "stream",
     "text": [
      "True\n"
     ]
    }
   ],
   "source": [
    "a = {\"data\", \"python\",\"code\"}\n",
    "print(\"code\"in a)"
   ]
  },
  {
   "cell_type": "code",
   "execution_count": 23,
   "id": "8ec251a7",
   "metadata": {},
   "outputs": [
    {
     "name": "stdout",
     "output_type": "stream",
     "text": [
      "False\n"
     ]
    }
   ],
   "source": [
    "a = {\"data\", \"Python\", \"sana\"}\n",
    "print(\"analyst\" in a \n",
    "     )"
   ]
  },
  {
   "cell_type": "markdown",
   "id": "1f9daba4",
   "metadata": {},
   "source": [
    "# Add items in set()"
   ]
  },
  {
   "cell_type": "markdown",
   "id": "70ece8bd",
   "metadata": {},
   "source": [
    "Once a set is created , we can not change its item, but we can add new items."
   ]
  },
  {
   "cell_type": "code",
   "execution_count": 24,
   "id": "e5e0f334",
   "metadata": {},
   "outputs": [
    {
     "name": "stdout",
     "output_type": "stream",
     "text": [
      "{'c1', 1, 2, 3, 'b1', 'a1', 'sana'}\n"
     ]
    }
   ],
   "source": [
    "a = {\"a1\", \"b1\",\"c1\",1,2,3}\n",
    "\n",
    "a.add(\"sana\")\n",
    "print(a)"
   ]
  },
  {
   "cell_type": "code",
   "execution_count": 25,
   "id": "a6c0a285",
   "metadata": {},
   "outputs": [
    {
     "name": "stdout",
     "output_type": "stream",
     "text": [
      "{'code', 'python', '10,20,30,40', 'data'}\n",
      "4\n"
     ]
    }
   ],
   "source": [
    "x = {\"data\",\"python\", \"code\"}\n",
    "y = {\"10,20,30,40\"}\n",
    "\n",
    "x.update(y)\n",
    "print(x)\n",
    "\n",
    "print(len(x))"
   ]
  },
  {
   "cell_type": "markdown",
   "id": "24f11aef",
   "metadata": {},
   "source": [
    "# remove item in set()"
   ]
  },
  {
   "cell_type": "code",
   "execution_count": 26,
   "id": "f0a00115",
   "metadata": {},
   "outputs": [
    {
     "name": "stdout",
     "output_type": "stream",
     "text": [
      "{'jaan', 12, 13, 'sana', 'delhi'}\n"
     ]
    }
   ],
   "source": [
    "z = {\"sana\",\"jaan\", \"delhi\", \"agra\", 12,13}\n",
    "\n",
    "z.remove(\"agra\")\n",
    "print(z)"
   ]
  },
  {
   "cell_type": "markdown",
   "id": "73dbd713",
   "metadata": {},
   "source": [
    "We can also use pop( ) method to remove an item from set()but this method will remove a random item"
   ]
  },
  {
   "cell_type": "code",
   "execution_count": 27,
   "id": "3eb20de4",
   "metadata": {},
   "outputs": [
    {
     "name": "stdout",
     "output_type": "stream",
     "text": [
      "jaan\n",
      "{'agra', 12, 13, 'sana', 'delhi'}\n"
     ]
    }
   ],
   "source": [
    "z = {\"sana\",\"jaan\", \"delhi\", \"agra\", 12,13}\n",
    "x = z.pop()\n",
    "print(x)\n",
    "print(z)"
   ]
  },
  {
   "cell_type": "markdown",
   "id": "84128aab",
   "metadata": {},
   "source": [
    "# the clear() method empties the set()"
   ]
  },
  {
   "cell_type": "code",
   "execution_count": 28,
   "id": "7eb035b5",
   "metadata": {},
   "outputs": [
    {
     "name": "stdout",
     "output_type": "stream",
     "text": [
      "set()\n"
     ]
    }
   ],
   "source": [
    "z = {\"sana\",\"jaan\", \"delhi\", \"agra\", 12,13}\n",
    "\n",
    "z.clear()\n",
    "print(z)"
   ]
  },
  {
   "cell_type": "markdown",
   "id": "e8b04aa2",
   "metadata": {},
   "source": [
    "### the del( ) key word will delete the set completely"
   ]
  },
  {
   "cell_type": "code",
   "execution_count": 29,
   "id": "6130ae3c",
   "metadata": {},
   "outputs": [
    {
     "ename": "NameError",
     "evalue": "name 'z' is not defined",
     "output_type": "error",
     "traceback": [
      "\u001b[1;31m---------------------------------------------------------------------------\u001b[0m",
      "\u001b[1;31mNameError\u001b[0m                                 Traceback (most recent call last)",
      "Cell \u001b[1;32mIn[29], line 3\u001b[0m\n\u001b[0;32m      1\u001b[0m z \u001b[38;5;241m=\u001b[39m {\u001b[38;5;124m\"\u001b[39m\u001b[38;5;124msana\u001b[39m\u001b[38;5;124m\"\u001b[39m,\u001b[38;5;124m\"\u001b[39m\u001b[38;5;124mjaan\u001b[39m\u001b[38;5;124m\"\u001b[39m, \u001b[38;5;124m\"\u001b[39m\u001b[38;5;124mdelhi\u001b[39m\u001b[38;5;124m\"\u001b[39m, \u001b[38;5;124m\"\u001b[39m\u001b[38;5;124magra\u001b[39m\u001b[38;5;124m\"\u001b[39m, \u001b[38;5;241m12\u001b[39m,\u001b[38;5;241m13\u001b[39m}\n\u001b[0;32m      2\u001b[0m \u001b[38;5;28;01mdel\u001b[39;00m z\n\u001b[1;32m----> 3\u001b[0m \u001b[38;5;28mprint\u001b[39m(z)\n",
      "\u001b[1;31mNameError\u001b[0m: name 'z' is not defined"
     ]
    }
   ],
   "source": [
    "z = {\"sana\",\"jaan\", \"delhi\", \"agra\", 12,13}\n",
    "del z\n",
    "print(z)"
   ]
  },
  {
   "cell_type": "markdown",
   "id": "57aaa837",
   "metadata": {},
   "source": [
    "# Join two set()"
   ]
  },
  {
   "cell_type": "code",
   "execution_count": 30,
   "id": "03085354",
   "metadata": {},
   "outputs": [
    {
     "name": "stdout",
     "output_type": "stream",
     "text": [
      "{1, 2, 'c', 3, 'a', 'b'}\n"
     ]
    }
   ],
   "source": [
    "x = {\"a\", \"b\", \"c\"}\n",
    "y = {1,2,3}\n",
    "\n",
    "z = x.union(y)\n",
    "print(z)"
   ]
  },
  {
   "cell_type": "markdown",
   "id": "fcb1ef62",
   "metadata": {},
   "source": [
    "Write a python program to find the mazimum and munimum values in a set."
   ]
  },
  {
   "cell_type": "code",
   "execution_count": 32,
   "id": "e9a4e6f1",
   "metadata": {},
   "outputs": [
    {
     "name": "stdout",
     "output_type": "stream",
     "text": [
      "Original set element:\n",
      "{20, 5, 25, 10, 15}\n",
      "<class 'set'>\n",
      "maximum value of the said set:\n",
      "25\n",
      "minimum value of the said set:\n",
      "5\n"
     ]
    }
   ],
   "source": [
    "set1 = {5,10,15,20,25}\n",
    "print(\"Original set element:\")\n",
    "print(set1)\n",
    "print(type(set1))\n",
    "print(\"maximum value of the said set:\")\n",
    "print(max(set1))\n",
    "print(\"minimum value of the said set:\")\n",
    "print(min(set1))"
   ]
  },
  {
   "cell_type": "markdown",
   "id": "af0463fb",
   "metadata": {},
   "source": [
    "# Return a new item of set of identical items from two set"
   ]
  },
  {
   "cell_type": "code",
   "execution_count": 33,
   "id": "70099d5d",
   "metadata": {},
   "outputs": [
    {
     "name": "stdout",
     "output_type": "stream",
     "text": [
      "{40, 20}\n"
     ]
    }
   ],
   "source": [
    "set1 = {10,20,30,40}\n",
    "set2 = {20,40,50,60}\n",
    "\n",
    "print(set1.intersection(set2))"
   ]
  },
  {
   "cell_type": "code",
   "execution_count": null,
   "id": "875ed9ea",
   "metadata": {},
   "outputs": [],
   "source": []
  }
 ],
 "metadata": {
  "kernelspec": {
   "display_name": "Python 3 (ipykernel)",
   "language": "python",
   "name": "python3"
  },
  "language_info": {
   "codemirror_mode": {
    "name": "ipython",
    "version": 3
   },
   "file_extension": ".py",
   "mimetype": "text/x-python",
   "name": "python",
   "nbconvert_exporter": "python",
   "pygments_lexer": "ipython3",
   "version": "3.11.5"
  }
 },
 "nbformat": 4,
 "nbformat_minor": 5
}
