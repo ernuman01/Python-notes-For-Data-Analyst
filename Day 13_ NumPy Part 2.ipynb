{
 "cells": [
  {
   "cell_type": "markdown",
   "id": "83fcf804",
   "metadata": {},
   "source": [
    "By default data types in python: - \"String\", \"Integer\", \"Float\", \"Boolean\""
   ]
  },
  {
   "cell_type": "markdown",
   "id": "e005fdb5",
   "metadata": {},
   "source": [
    "Data Types in NumPy\n",
    "NumPy has some extra data types, and refer to data types with one charecter"
   ]
  },
  {
   "cell_type": "markdown",
   "id": "45d68cf9",
   "metadata": {},
   "source": [
    "i - integer"
   ]
  },
  {
   "cell_type": "markdown",
   "id": "b5b48dde",
   "metadata": {},
   "source": [
    "b - boolean"
   ]
  },
  {
   "cell_type": "markdown",
   "id": "77406d9b",
   "metadata": {},
   "source": [
    "u - unsigned integer\n"
   ]
  },
  {
   "cell_type": "markdown",
   "id": "7887d620",
   "metadata": {},
   "source": [
    "f - float"
   ]
  },
  {
   "cell_type": "markdown",
   "id": "cecb4026",
   "metadata": {},
   "source": [
    "c - complex float"
   ]
  },
  {
   "cell_type": "markdown",
   "id": "a2d3cefd",
   "metadata": {},
   "source": [
    "m - timedelta"
   ]
  },
  {
   "cell_type": "markdown",
   "id": "4d202743",
   "metadata": {},
   "source": [
    "M - Datetime"
   ]
  },
  {
   "cell_type": "markdown",
   "id": "c2a829ff",
   "metadata": {},
   "source": [
    "O - Object"
   ]
  },
  {
   "cell_type": "markdown",
   "id": "04d7791e",
   "metadata": {},
   "source": [
    "S - String"
   ]
  },
  {
   "cell_type": "markdown",
   "id": "7e58c2e8",
   "metadata": {},
   "source": [
    "U - unicode string"
   ]
  },
  {
   "cell_type": "markdown",
   "id": "ea7c3100",
   "metadata": {},
   "source": [
    "V - Fixed chunk of memoryfor other type(void)"
   ]
  },
  {
   "cell_type": "markdown",
   "id": "099d2395",
   "metadata": {},
   "source": [
    "# Checking the data type of an array"
   ]
  },
  {
   "cell_type": "code",
   "execution_count": 2,
   "id": "bf7395b4",
   "metadata": {},
   "outputs": [],
   "source": [
    "import numpy as np"
   ]
  },
  {
   "cell_type": "code",
   "execution_count": 3,
   "id": "1175dfbd",
   "metadata": {},
   "outputs": [
    {
     "name": "stdout",
     "output_type": "stream",
     "text": [
      "int32\n"
     ]
    }
   ],
   "source": [
    "arr = np.array([1,2,3,4,5])\n",
    "print(arr.dtype)"
   ]
  },
  {
   "cell_type": "code",
   "execution_count": 4,
   "id": "79ddee0e",
   "metadata": {},
   "outputs": [
    {
     "name": "stdout",
     "output_type": "stream",
     "text": [
      "<U7\n"
     ]
    }
   ],
   "source": [
    "z = np.array([\"animals\",\"cat\",\"bat\"])\n",
    "print(z.dtype)"
   ]
  },
  {
   "cell_type": "markdown",
   "id": "216c0c41",
   "metadata": {},
   "source": [
    "# Creating Arrays with a defined data types"
   ]
  },
  {
   "cell_type": "code",
   "execution_count": 5,
   "id": "10180045",
   "metadata": {},
   "outputs": [
    {
     "name": "stdout",
     "output_type": "stream",
     "text": [
      "[b'1' b'2' b'3' b'4' b'5']\n",
      "|S1\n"
     ]
    }
   ],
   "source": [
    "arr = np.array([1,2,3,4,5], dtype='S')\n",
    "\n",
    "print(arr)\n",
    "print(arr.dtype)"
   ]
  },
  {
   "cell_type": "markdown",
   "id": "7fe89341",
   "metadata": {},
   "source": [
    "# Create an array with defined data type 4 Bytes intger:"
   ]
  },
  {
   "cell_type": "code",
   "execution_count": 8,
   "id": "cb55af5c",
   "metadata": {},
   "outputs": [
    {
     "name": "stdout",
     "output_type": "stream",
     "text": [
      "[1 2 3 4 5]\n",
      "int32\n"
     ]
    }
   ],
   "source": [
    "arr = np.array([1,2,3,4,5], dtype='i4')\n",
    "print(arr)\n",
    "print(arr.dtype)"
   ]
  },
  {
   "cell_type": "markdown",
   "id": "56e38f8a",
   "metadata": {},
   "source": [
    "# NumPy Array Shape"
   ]
  },
  {
   "cell_type": "markdown",
   "id": "be2f3b60",
   "metadata": {},
   "source": [
    "### The shape of an array is the number of elements in each dimension."
   ]
  },
  {
   "cell_type": "markdown",
   "id": "24eca449",
   "metadata": {},
   "source": [
    "# Print the shape of a 2-D array :"
   ]
  },
  {
   "cell_type": "code",
   "execution_count": 9,
   "id": "08c8aaf7",
   "metadata": {},
   "outputs": [
    {
     "name": "stdout",
     "output_type": "stream",
     "text": [
      "(2, 3)\n"
     ]
    }
   ],
   "source": [
    "arr = np.array([[1,3,5],[2,4,6]])\n",
    "print(arr.shape)"
   ]
  },
  {
   "cell_type": "code",
   "execution_count": 11,
   "id": "180b04e1",
   "metadata": {},
   "outputs": [
    {
     "name": "stdout",
     "output_type": "stream",
     "text": [
      "(2, 4)\n"
     ]
    }
   ],
   "source": [
    "arr = np.array([[1,3,5,7],[2,4,6,8]])\n",
    "print(arr.shape)"
   ]
  },
  {
   "cell_type": "code",
   "execution_count": 12,
   "id": "8c390669",
   "metadata": {},
   "outputs": [
    {
     "name": "stdout",
     "output_type": "stream",
     "text": [
      "(4,)\n"
     ]
    }
   ],
   "source": [
    "arr = np.array([2,4,6,8])\n",
    "print(arr.shape)"
   ]
  },
  {
   "cell_type": "code",
   "execution_count": 13,
   "id": "d98a5df1",
   "metadata": {},
   "outputs": [
    {
     "name": "stdout",
     "output_type": "stream",
     "text": [
      "(2, 2, 3)\n"
     ]
    }
   ],
   "source": [
    "z = np.array([[[1,3,5],[2,3,4]],[[4,5,6],[7,8,9]]])\n",
    "print(z.shape)\n"
   ]
  },
  {
   "cell_type": "markdown",
   "id": "c5fee064",
   "metadata": {},
   "source": [
    "### Creat e an array with 5 dimensions using ndmin using a vector with values 1,2,3,4 and verify that las dimension has value"
   ]
  },
  {
   "cell_type": "code",
   "execution_count": 14,
   "id": "a523feb5",
   "metadata": {},
   "outputs": [
    {
     "name": "stdout",
     "output_type": "stream",
     "text": [
      "[[[[[1 2 3 4]]]]]\n",
      "Shape of array: (1, 1, 1, 1, 4)\n"
     ]
    }
   ],
   "source": [
    "arr = np.array([1,2,3,4], ndmin=5)\n",
    "\n",
    "print(arr)\n",
    "print('Shape of array:', arr.shape)"
   ]
  },
  {
   "cell_type": "markdown",
   "id": "d346144d",
   "metadata": {},
   "source": [
    "# Joining NumPy arrays"
   ]
  },
  {
   "cell_type": "code",
   "execution_count": 16,
   "id": "ae230b4b",
   "metadata": {},
   "outputs": [
    {
     "name": "stdout",
     "output_type": "stream",
     "text": [
      "[1 2 3 4 5 6]\n"
     ]
    }
   ],
   "source": [
    "import numpy as np\n",
    "ar1 = np.array([1,2,3])\n",
    "ar2 = np.array([4,5,6])\n",
    "\n",
    "z = np.concatenate((ar1, ar2))\n",
    "\n",
    "print(z)"
   ]
  },
  {
   "cell_type": "markdown",
   "id": "f88063df",
   "metadata": {},
   "source": [
    "# Join two 2_d arrays along rows(axis=1): Rows"
   ]
  },
  {
   "cell_type": "code",
   "execution_count": 22,
   "id": "6293cea6",
   "metadata": {},
   "outputs": [
    {
     "name": "stdout",
     "output_type": "stream",
     "text": [
      "[[1 2 3 4 5 6]\n",
      " [1 3 5 7 8 9]]\n"
     ]
    }
   ],
   "source": [
    "import numpy as np\n",
    "ar1 = np.array([[1,2,3],[1,3,5]])\n",
    "ar2 = np.array([[4,5,6],[7,8,9]])\n",
    "z = np.concatenate((ar1,ar2), axis=1)\n",
    "print(z)"
   ]
  },
  {
   "cell_type": "code",
   "execution_count": 23,
   "id": "b2c399de",
   "metadata": {},
   "outputs": [
    {
     "ename": "AxisError",
     "evalue": "axis 2 is out of bounds for array of dimension 2",
     "output_type": "error",
     "traceback": [
      "\u001b[1;31m---------------------------------------------------------------------------\u001b[0m",
      "\u001b[1;31mAxisError\u001b[0m                                 Traceback (most recent call last)",
      "Cell \u001b[1;32mIn[23], line 4\u001b[0m\n\u001b[0;32m      2\u001b[0m ar1 \u001b[38;5;241m=\u001b[39m np\u001b[38;5;241m.\u001b[39marray([[\u001b[38;5;241m1\u001b[39m,\u001b[38;5;241m2\u001b[39m,\u001b[38;5;241m3\u001b[39m],[\u001b[38;5;241m1\u001b[39m,\u001b[38;5;241m3\u001b[39m,\u001b[38;5;241m5\u001b[39m]])\n\u001b[0;32m      3\u001b[0m ar2 \u001b[38;5;241m=\u001b[39m np\u001b[38;5;241m.\u001b[39marray([[\u001b[38;5;241m4\u001b[39m,\u001b[38;5;241m5\u001b[39m,\u001b[38;5;241m6\u001b[39m],[\u001b[38;5;241m7\u001b[39m,\u001b[38;5;241m8\u001b[39m,\u001b[38;5;241m9\u001b[39m]])\n\u001b[1;32m----> 4\u001b[0m z \u001b[38;5;241m=\u001b[39m np\u001b[38;5;241m.\u001b[39mconcatenate((ar1,ar2), axis\u001b[38;5;241m=\u001b[39m\u001b[38;5;241m2\u001b[39m)\n\u001b[0;32m      5\u001b[0m \u001b[38;5;28mprint\u001b[39m(z)\n",
      "File \u001b[1;32m<__array_function__ internals>:200\u001b[0m, in \u001b[0;36mconcatenate\u001b[1;34m(*args, **kwargs)\u001b[0m\n",
      "\u001b[1;31mAxisError\u001b[0m: axis 2 is out of bounds for array of dimension 2"
     ]
    }
   ],
   "source": [
    "import numpy as np\n",
    "ar1 = np.array([[1,2,3],[1,3,5]])\n",
    "ar2 = np.array([[4,5,6],[7,8,9]])\n",
    "z = np.concatenate((ar1,ar2), axis=2)\n",
    "print(z)"
   ]
  },
  {
   "cell_type": "markdown",
   "id": "220db3f5",
   "metadata": {},
   "source": [
    "# Join Two 2-D arrays along rows(axis=1): Column"
   ]
  },
  {
   "cell_type": "code",
   "execution_count": 24,
   "id": "410985e1",
   "metadata": {},
   "outputs": [
    {
     "name": "stdout",
     "output_type": "stream",
     "text": [
      "[[1 2 3]\n",
      " [1 3 5]\n",
      " [4 5 6]\n",
      " [7 8 9]]\n"
     ]
    }
   ],
   "source": [
    "import numpy as np\n",
    "ar1 = np.array([[1,2,3],[1,3,5]])\n",
    "ar2 = np.array([[4,5,6],[7,8,9]])\n",
    "z = np.concatenate((ar1,ar2), axis=0)\n",
    "print(z)"
   ]
  },
  {
   "cell_type": "markdown",
   "id": "55690085",
   "metadata": {},
   "source": [
    "# Splitting Numpy array"
   ]
  },
  {
   "cell_type": "markdown",
   "id": "c9d9b692",
   "metadata": {},
   "source": [
    "# Splitting is reverse operation of joining."
   ]
  },
  {
   "cell_type": "markdown",
   "id": "b8d4f249",
   "metadata": {},
   "source": [
    "Joining merges multiple arrays ito one and splitting breaks one array into multiple"
   ]
  },
  {
   "cell_type": "markdown",
   "id": "89aea525",
   "metadata": {},
   "source": [
    "# Split the array in 3 parts:"
   ]
  },
  {
   "cell_type": "code",
   "execution_count": 25,
   "id": "c13aa162",
   "metadata": {},
   "outputs": [
    {
     "name": "stdout",
     "output_type": "stream",
     "text": [
      "[array([1, 2]), array([3, 4]), array([5, 6])]\n"
     ]
    }
   ],
   "source": [
    "arr = np.array([1,2,3,4,5,6])\n",
    "\n",
    "z = np.array_split(arr,3)\n",
    "print(z)"
   ]
  },
  {
   "cell_type": "code",
   "execution_count": 26,
   "id": "8f6427bb",
   "metadata": {},
   "outputs": [
    {
     "name": "stdout",
     "output_type": "stream",
     "text": [
      "[array([1, 2, 3]), array([4, 5, 6])]\n"
     ]
    }
   ],
   "source": [
    "arr = np.array([1,2,3,4,5,6])\n",
    "\n",
    "z = np.array_split(arr,2)\n",
    "print(z)"
   ]
  },
  {
   "cell_type": "code",
   "execution_count": 27,
   "id": "511b8395",
   "metadata": {},
   "outputs": [
    {
     "name": "stdout",
     "output_type": "stream",
     "text": [
      "[array([1, 2]), array([3, 4]), array([5]), array([6])]\n"
     ]
    }
   ],
   "source": [
    "arr = np.array([1,2,3,4,5,6])\n",
    "\n",
    "z = np.array_split(arr,4)\n",
    "print(z)"
   ]
  },
  {
   "cell_type": "markdown",
   "id": "31bc6603",
   "metadata": {},
   "source": [
    "## ravel & flatten - Converts multidimensional array into 1 d array"
   ]
  },
  {
   "cell_type": "code",
   "execution_count": 36,
   "id": "51d35ca8",
   "metadata": {},
   "outputs": [
    {
     "name": "stdout",
     "output_type": "stream",
     "text": [
      "[[[1 2 3]\n",
      "  [4 5 6]\n",
      "  [7 8 9]]]\n",
      "dimension is 3\n",
      "\n",
      "[1 2 3 4 5 6 7 8 9]\n",
      "Now the new dimension is 1\n"
     ]
    }
   ],
   "source": [
    "import numpy as np\n",
    "m = np.array([[[1,2,3],[4,5,6],[7,8,9]]])\n",
    "\n",
    "print(m)\n",
    "print(\"dimension is\", m.ndim)\n",
    "\n",
    "print()\n",
    "\n",
    "n = m.ravel()\n",
    "print(n)\n",
    "print(\"Now the new dimension is\", n.ndim)"
   ]
  },
  {
   "cell_type": "markdown",
   "id": "9e8a2502",
   "metadata": {},
   "source": [
    "### example 2"
   ]
  },
  {
   "cell_type": "code",
   "execution_count": 37,
   "id": "75499186",
   "metadata": {},
   "outputs": [
    {
     "name": "stdout",
     "output_type": "stream",
     "text": [
      "[[[ 1  2  3]\n",
      "  [78 89 99]\n",
      "  [45 56 23]]]\n",
      "Sot he dimension is 3\n",
      "\n",
      "[ 1  2  3 78 89 99 45 56 23]\n",
      "The dimension is 1\n"
     ]
    }
   ],
   "source": [
    "c  =np.array([[[1,2,3],[78,89,99],[45,56,23]]])\n",
    "print(c)\n",
    "\n",
    "print(\"Sot he dimension is\", c.ndim)\n",
    "print()\n",
    "d = c.ravel()\n",
    "print(d)\n",
    "\n",
    "print(\"The dimension is\", d.ndim)"
   ]
  },
  {
   "cell_type": "markdown",
   "id": "404f0883",
   "metadata": {},
   "source": [
    "# Arithmatic operation in numpy arrays"
   ]
  },
  {
   "cell_type": "markdown",
   "id": "d622047d",
   "metadata": {},
   "source": [
    "# Addition"
   ]
  },
  {
   "cell_type": "code",
   "execution_count": 39,
   "id": "a6ba1c72",
   "metadata": {},
   "outputs": [
    {
     "name": "stdout",
     "output_type": "stream",
     "text": [
      "[4 5 6 7 8]\n"
     ]
    }
   ],
   "source": [
    "x = np.array([1,2,3,4,5])\n",
    "y =  x+3\n",
    "print(y)"
   ]
  },
  {
   "cell_type": "markdown",
   "id": "4e238516",
   "metadata": {},
   "source": [
    "# Substraction"
   ]
  },
  {
   "cell_type": "code",
   "execution_count": 40,
   "id": "e8a4169e",
   "metadata": {},
   "outputs": [
    {
     "name": "stdout",
     "output_type": "stream",
     "text": [
      "[10 20 30]\n"
     ]
    }
   ],
   "source": [
    "x = np.array([20,40,60])\n",
    "y = np.array([10,20,30])\n",
    "z = x-y\n",
    "print(z)"
   ]
  },
  {
   "cell_type": "markdown",
   "id": "bbeb2da5",
   "metadata": {},
   "source": [
    "# Multipliction"
   ]
  },
  {
   "cell_type": "code",
   "execution_count": 41,
   "id": "a607f2d0",
   "metadata": {},
   "outputs": [
    {
     "name": "stdout",
     "output_type": "stream",
     "text": [
      "[100 200 300]\n"
     ]
    }
   ],
   "source": [
    "x = np.array([20,40,60])\n",
    "y = x*5\n",
    "print(y)"
   ]
  },
  {
   "cell_type": "markdown",
   "id": "0074a96f",
   "metadata": {},
   "source": [
    "# Division"
   ]
  },
  {
   "cell_type": "code",
   "execution_count": 42,
   "id": "3efed1b2",
   "metadata": {},
   "outputs": [
    {
     "name": "stdout",
     "output_type": "stream",
     "text": [
      "[ 4.  8. 12.]\n"
     ]
    }
   ],
   "source": [
    "x = np.array([20,40,60])\n",
    "y = x/5\n",
    "print(y)"
   ]
  },
  {
   "cell_type": "code",
   "execution_count": 43,
   "id": "c53d3eb6",
   "metadata": {},
   "outputs": [
    {
     "name": "stdout",
     "output_type": "stream",
     "text": [
      "[0.66666667 2.         1.2       ]\n"
     ]
    }
   ],
   "source": [
    "x = np.array([20,40,60])\n",
    "y = np.array([30,20,50])\n",
    "\n",
    "m = np.divide(x,y)\n",
    "print(m)"
   ]
  },
  {
   "cell_type": "markdown",
   "id": "fd46ede5",
   "metadata": {},
   "source": [
    "# Modulus"
   ]
  },
  {
   "cell_type": "code",
   "execution_count": 44,
   "id": "a9bbe766",
   "metadata": {},
   "outputs": [
    {
     "name": "stdout",
     "output_type": "stream",
     "text": [
      "[0 0 0]\n"
     ]
    }
   ],
   "source": [
    "x = np.array([20,40,60])\n",
    "y = x%5\n",
    "\n",
    "print(y)"
   ]
  },
  {
   "cell_type": "code",
   "execution_count": 45,
   "id": "f82c5a20",
   "metadata": {},
   "outputs": [
    {
     "name": "stdout",
     "output_type": "stream",
     "text": [
      "[2 1 0]\n"
     ]
    }
   ],
   "source": [
    "x = np.array([20,40,60])\n",
    "y = x%3\n",
    "\n",
    "print(y)"
   ]
  },
  {
   "cell_type": "code",
   "execution_count": 46,
   "id": "e54b3ff8",
   "metadata": {},
   "outputs": [
    {
     "name": "stdout",
     "output_type": "stream",
     "text": [
      "[0 0 0]\n"
     ]
    }
   ],
   "source": [
    "x = np.array([20,40,60])\n",
    "m = np.array([5,10,30])\n",
    "\n",
    "y = np.mod(x,m)\n",
    "print(y)"
   ]
  },
  {
   "cell_type": "markdown",
   "id": "04dfaa69",
   "metadata": {},
   "source": [
    "# Arithmatic operation in 2-D array"
   ]
  },
  {
   "cell_type": "markdown",
   "id": "575484eb",
   "metadata": {},
   "source": [
    "### Addition"
   ]
  },
  {
   "cell_type": "code",
   "execution_count": 49,
   "id": "896d36f0",
   "metadata": {},
   "outputs": [
    {
     "name": "stdout",
     "output_type": "stream",
     "text": [
      "[[ 6 12 22 28]\n",
      " [ 6 12 18 30]]\n"
     ]
    }
   ],
   "source": [
    "n1 = np.array([[2,4,6,8],[3,6,9,12]])\n",
    "n2 = np.array([[4,8,16,20],[3,6,9,18]])\n",
    "\n",
    "x = n1+n2\n",
    "print(x)\n"
   ]
  },
  {
   "cell_type": "markdown",
   "id": "f48c728d",
   "metadata": {},
   "source": [
    "### Substraction"
   ]
  },
  {
   "cell_type": "code",
   "execution_count": 50,
   "id": "1d2b207e",
   "metadata": {},
   "outputs": [
    {
     "name": "stdout",
     "output_type": "stream",
     "text": [
      "[[ -2  -4 -10 -12]\n",
      " [  0   0   0  -6]]\n"
     ]
    }
   ],
   "source": [
    "n1 = np.array([[2,4,6,8],[3,6,9,12]])\n",
    "n2 = np.array([[4,8,16,20],[3,6,9,18]])\n",
    "\n",
    "x = n1-n2\n",
    "print(x)\n"
   ]
  },
  {
   "cell_type": "markdown",
   "id": "d7c37fd8",
   "metadata": {},
   "source": [
    "### Multiplication"
   ]
  },
  {
   "cell_type": "code",
   "execution_count": 51,
   "id": "bb2d61ca",
   "metadata": {},
   "outputs": [
    {
     "name": "stdout",
     "output_type": "stream",
     "text": [
      "[[  8  32  96 160]\n",
      " [  9  36  81 216]]\n"
     ]
    }
   ],
   "source": [
    "n1 = np.array([[2,4,6,8],[3,6,9,12]])\n",
    "n2 = np.array([[4,8,16,20],[3,6,9,18]])\n",
    "\n",
    "x = n1*n2\n",
    "print(x)\n"
   ]
  },
  {
   "cell_type": "markdown",
   "id": "33478e9c",
   "metadata": {},
   "source": [
    "### Division"
   ]
  },
  {
   "cell_type": "code",
   "execution_count": 52,
   "id": "5ce6843d",
   "metadata": {},
   "outputs": [
    {
     "name": "stdout",
     "output_type": "stream",
     "text": [
      "[[0.5        0.5        0.375      0.4       ]\n",
      " [1.         1.         1.         0.66666667]]\n"
     ]
    }
   ],
   "source": [
    "n1 = np.array([[2,4,6,8],[3,6,9,12]])\n",
    "n2 = np.array([[4,8,16,20],[3,6,9,18]])\n",
    "\n",
    "x = n1/n2\n",
    "print(x)\n"
   ]
  },
  {
   "cell_type": "markdown",
   "id": "349a8584",
   "metadata": {},
   "source": [
    "# Arithmatic operation in 3-D array"
   ]
  },
  {
   "cell_type": "markdown",
   "id": "b6c2d199",
   "metadata": {},
   "source": [
    "### Addition"
   ]
  },
  {
   "cell_type": "code",
   "execution_count": 53,
   "id": "b2a40a87",
   "metadata": {},
   "outputs": [
    {
     "name": "stdout",
     "output_type": "stream",
     "text": [
      "[[[ 6 12 22 28]\n",
      "  [ 6 12 18 30]]]\n",
      "3\n"
     ]
    }
   ],
   "source": [
    "n1 = np.array([[[2,4,6,8],[3,6,9,12]]])\n",
    "n2 = np.array([[[4,8,16,20],[3,6,9,18]]])\n",
    "\n",
    "x = n1+n2\n",
    "print(x)\n",
    "print(x.ndim)"
   ]
  },
  {
   "cell_type": "markdown",
   "id": "79501eb0",
   "metadata": {},
   "source": [
    "### Substraction"
   ]
  },
  {
   "cell_type": "code",
   "execution_count": 54,
   "id": "18ba160f",
   "metadata": {},
   "outputs": [
    {
     "name": "stdout",
     "output_type": "stream",
     "text": [
      "[[[ -2  -4 -10 -12]\n",
      "  [  0   0   0  -6]]]\n",
      "3\n"
     ]
    }
   ],
   "source": [
    "n1 = np.array([[[2,4,6,8],[3,6,9,12]]])\n",
    "n2 = np.array([[[4,8,16,20],[3,6,9,18]]])\n",
    "\n",
    "x = n1-n2\n",
    "print(x)\n",
    "print(x.ndim)"
   ]
  },
  {
   "cell_type": "markdown",
   "id": "fa84ba78",
   "metadata": {},
   "source": [
    "### Multiplication"
   ]
  },
  {
   "cell_type": "code",
   "execution_count": 55,
   "id": "cf28be03",
   "metadata": {},
   "outputs": [
    {
     "name": "stdout",
     "output_type": "stream",
     "text": [
      "[[[  8  32  96 160]\n",
      "  [  9  36  81 216]]]\n",
      "3\n"
     ]
    }
   ],
   "source": [
    "n1 = np.array([[[2,4,6,8],[3,6,9,12]]])\n",
    "n2 = np.array([[[4,8,16,20],[3,6,9,18]]])\n",
    "\n",
    "x = n1*n2\n",
    "print(x)\n",
    "print(x.ndim)"
   ]
  },
  {
   "cell_type": "markdown",
   "id": "62a6df09",
   "metadata": {},
   "source": [
    "### Division"
   ]
  },
  {
   "cell_type": "code",
   "execution_count": 56,
   "id": "2f54e4bd",
   "metadata": {},
   "outputs": [
    {
     "name": "stdout",
     "output_type": "stream",
     "text": [
      "[[[0.5        0.5        0.375      0.4       ]\n",
      "  [1.         1.         1.         0.66666667]]]\n",
      "3\n"
     ]
    }
   ],
   "source": [
    "n1 = np.array([[[2,4,6,8],[3,6,9,12]]])\n",
    "n2 = np.array([[[4,8,16,20],[3,6,9,18]]])\n",
    "\n",
    "x = n1/n2\n",
    "print(x)\n",
    "print(x.ndim)"
   ]
  },
  {
   "cell_type": "markdown",
   "id": "086ebfc1",
   "metadata": {},
   "source": [
    "# Unique Function in Array"
   ]
  },
  {
   "cell_type": "code",
   "execution_count": 57,
   "id": "edb4f741",
   "metadata": {},
   "outputs": [
    {
     "name": "stdout",
     "output_type": "stream",
     "text": [
      "[12 56 23 45 78 89 87 54 21 32 56 65]\n",
      "[12 21 23 32 45 54 56 65 78 87 89]\n"
     ]
    }
   ],
   "source": [
    "k = np.array([12,56,23,45,78,89,87,54,21,32,56,65])\n",
    "print(k)\n",
    "\n",
    "x = np.unique(k)\n",
    "print(x)             # it will print which is unique element in array"
   ]
  },
  {
   "cell_type": "code",
   "execution_count": 58,
   "id": "217f6539",
   "metadata": {},
   "outputs": [
    {
     "name": "stdout",
     "output_type": "stream",
     "text": [
      "[12 56 23 45 78 89 87 54 21 32 56 65]\n",
      "(array([12, 21, 23, 32, 45, 54, 56, 65, 78, 87, 89]), array([ 0,  8,  2,  9,  3,  7,  1, 11,  4,  6,  5], dtype=int64))\n"
     ]
    }
   ],
   "source": [
    "k = np.array([12,56,23,45,78,89,87,54,21,32,56,65])\n",
    "print(k)\n",
    "x = np.unique(k,return_index = True)\n",
    "\n",
    "print(x)             # it will print which is unique element in array"
   ]
  },
  {
   "cell_type": "markdown",
   "id": "c09640b9",
   "metadata": {},
   "source": [
    "# Delete"
   ]
  },
  {
   "cell_type": "code",
   "execution_count": 62,
   "id": "adb53300",
   "metadata": {},
   "outputs": [
    {
     "name": "stdout",
     "output_type": "stream",
     "text": [
      "[12 13 14 15]\n",
      "\n",
      "[12 14 15]\n"
     ]
    }
   ],
   "source": [
    "a = np.array([12,13,14,15])\n",
    "print(a)\n",
    "print()\n",
    "\n",
    "d = np.delete(a, [1])\n",
    "print(d)"
   ]
  },
  {
   "cell_type": "code",
   "execution_count": 63,
   "id": "1339e766",
   "metadata": {},
   "outputs": [
    {
     "name": "stdout",
     "output_type": "stream",
     "text": [
      "[12 13 14 15]\n",
      "\n",
      "[13 14 15]\n"
     ]
    }
   ],
   "source": [
    "a = np.array([12,13,14,15])\n",
    "print(a)\n",
    "print()\n",
    "\n",
    "d = np.delete(a, [0])\n",
    "print(d)"
   ]
  },
  {
   "cell_type": "code",
   "execution_count": 65,
   "id": "59ea5dc7",
   "metadata": {},
   "outputs": [
    {
     "name": "stdout",
     "output_type": "stream",
     "text": [
      "[[12 13 14 15]\n",
      " [16 17 18 19]\n",
      " [ 4  5  6  9]]\n",
      "\n",
      "[[12 13 14 15]\n",
      " [ 4  5  6  9]]\n"
     ]
    }
   ],
   "source": [
    "a = np.array([[12,13,14,15],[16,17,18,19],[4,5,6,9]])\n",
    "print(a)\n",
    "print()\n",
    "\n",
    "d = np.delete(a,1,axis=0)\n",
    "print(d)"
   ]
  },
  {
   "cell_type": "code",
   "execution_count": null,
   "id": "1a13adbb",
   "metadata": {},
   "outputs": [],
   "source": []
  }
 ],
 "metadata": {
  "kernelspec": {
   "display_name": "Python 3 (ipykernel)",
   "language": "python",
   "name": "python3"
  },
  "language_info": {
   "codemirror_mode": {
    "name": "ipython",
    "version": 3
   },
   "file_extension": ".py",
   "mimetype": "text/x-python",
   "name": "python",
   "nbconvert_exporter": "python",
   "pygments_lexer": "ipython3",
   "version": "3.11.5"
  }
 },
 "nbformat": 4,
 "nbformat_minor": 5
}
